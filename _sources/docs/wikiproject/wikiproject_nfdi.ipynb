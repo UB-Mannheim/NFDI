{
 "cells": [
  {
   "cell_type": "markdown",
   "id": "37884e39",
   "metadata": {},
   "source": [
    "# Description\n",
    "\n",
    "[Wikidata:WikiProject_NFDI](https://www.wikidata.org/wiki/Wikidata:WikiProject_NFDI) aims to create and edit entities and entity schemas relevant for NFDI. Discussions about the project take place at [the corresponding discussion page](https://www.wikidata.org/wiki/Wikidata_talk:WikiProject_NFDI).\n",
    "\n",
    "## Main items\n",
    "\n",
    "* [National Research Data Infrastructure](https://www.wikidata.org/entity/Q61658497)\n",
    "* [accepted NFDI consortium](https://www.wikidata.org/entity/Q98270496)\n",
    "* [proposed NFDI consortium](https://www.wikidata.org/entity/Q98270492)\n",
    "* [disciplinary research data infrastructure](https://www.wikidata.org/entity/Q96678469)\n",
    "* [national research data infrastructure](https://www.wikidata.org/entity/Q96678466)\n",
    "\n",
    "## Accepted NFDI consortia\n",
    "\n",
    "* [NFDI4Ing](https://www.wikidata.org/entity/Q98380344)\n",
    "* [NFDI4Microbiota](https://www.wikidata.org/entity/Q99534506)\n",
    "* [MaRDI](https://www.wikidata.org/entity/Q108327788)\n",
    "* [BERD@NFDI](https://www.wikidata.org/entity/Q108542181)\n",
    "* [DAPHNE4NFDI](https://www.wikidata.org/entity/Q108542327)\n",
    "* [FAIRmat](https://www.wikidata.org/entity/Q108542373)\n",
    "* [NFDI4DataScience](https://www.wikidata.org/entity/Q108542422)\n",
    "* [NFDI4Earth](https://www.wikidata.org/entity/Q108542504)\n",
    "* [NFDI-MatWerk](https://www.wikidata.org/entity/Q108542607)\n",
    "* [PUNCH4NFDI](https://www.wikidata.org/entity/Q108542637)\n",
    "* [NFDI4Chem](https://www.wikidata.org/entity/Q96678459)\n",
    "* [Text+](https://www.wikidata.org/entity/Q98271443)\n",
    "* [NFDI4Culture](https://www.wikidata.org/entity/Q98276929)\n",
    "* [DataPlant](https://www.wikidata.org/entity/Q98380336)\n",
    "* [GHGA](https://www.wikidata.org/entity/Q98380337)\n",
    "* [NFDI4Cat](https://www.wikidata.org/entity/Q98380342)\n",
    "* [NFDI4Health](https://www.wikidata.org/entity/Q98380343)\n",
    "* [KonsortSWD](https://www.wikidata.org/entity/Q98380340)\n",
    "* [NFDI4BioDiversity](https://www.wikidata.org/entity/Q98380341)"
   ]
  }
 ],
 "metadata": {
  "jupytext": {
   "text_representation": {
    "extension": ".md",
    "format_name": "myst"
   }
  },
  "kernelspec": {
   "display_name": "Python 3",
   "language": "python",
   "name": "python3"
  },
  "source_map": [
   10
  ]
 },
 "nbformat": 4,
 "nbformat_minor": 5
}