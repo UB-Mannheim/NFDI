{
 "cells": [
  {
   "cell_type": "markdown",
   "id": "4bfc5bc8",
   "metadata": {},
   "source": [
    "# Quick start: Module `info`\n",
    "Let's create an instance of class `consortia` from the module `info`."
   ]
  },
  {
   "cell_type": "code",
   "execution_count": 1,
   "id": "ad1181b4",
   "metadata": {},
   "outputs": [
    {
     "name": "stdout",
     "output_type": "stream",
     "text": [
      "consortia(label='National Research Data Infrastructure', homepage='https://www.nfdi.de', wikidata='https://www.wikidata.org/entity/Q61658497', github='', google='https://www.google.com/search?kgmid=/g/11h3k116k1', linkedin='https://www.linkedin.com/company/nfdi-de', twitter='https://twitter.com/NFDI_de', youtube='', zenodo='https://zenodo.org/communities/nfdi', labels=['BERD@NFDI', 'DAPHNE4NFDI', 'DataPlant', 'FAIRmat', 'GHGA', 'KonsortSWD', 'MaRDI', 'NFDI-MatWerk', 'NFDI4BioDiversity', 'NFDI4Cat', 'NFDI4Chem', 'NFDI4Culture', 'NFDI4DataScience', 'NFDI4Earth', 'NFDI4Health', 'NFDI4Ing', 'NFDI4Microbiota', 'PUNCH4NFDI', 'Text+'], consortia=[consortium(label='BERD@NFDI'), consortium(label='DAPHNE4NFDI'), consortium(label='DataPlant'), consortium(label='FAIRmat'), consortium(label='GHGA'), consortium(label='KonsortSWD'), consortium(label='MaRDI'), consortium(label='NFDI-MatWerk'), consortium(label='NFDI4BioDiversity'), consortium(label='NFDI4Cat'), consortium(label='NFDI4Chem'), consortium(label='NFDI4Culture'), consortium(label='NFDI4DataScience'), consortium(label='NFDI4Earth'), consortium(label='NFDI4Health'), consortium(label='NFDI4Ing'), consortium(label='NFDI4Microbiota'), consortium(label='PUNCH4NFDI'), consortium(label='Text+')])\n"
     ]
    }
   ],
   "source": [
    "from nfdi import info\n",
    "nfdi = info.consortia()\n",
    "print(nfdi)"
   ]
  },
  {
   "cell_type": "markdown",
   "id": "270c324b-bc8a-482b-9587-e6977e221733",
   "metadata": {},
   "source": [
    "It has a few useful attributes:"
   ]
  },
  {
   "cell_type": "code",
   "execution_count": 2,
   "id": "4d9de10b-df91-4d6c-80e5-569311d68a24",
   "metadata": {},
   "outputs": [
    {
     "data": {
      "text/plain": [
       "{'label': str,\n",
       " 'homepage': str,\n",
       " 'wikidata': str,\n",
       " 'github': str,\n",
       " 'google': str,\n",
       " 'linkedin': str,\n",
       " 'twitter': str,\n",
       " 'youtube': str,\n",
       " 'zenodo': str,\n",
       " 'labels': list,\n",
       " 'consortia': list}"
      ]
     },
     "execution_count": 2,
     "metadata": {},
     "output_type": "execute_result"
    }
   ],
   "source": [
    "nfdi.__annotations__"
   ]
  },
  {
   "cell_type": "code",
   "execution_count": 3,
   "id": "6854954c-1380-4b11-8e0d-2c16cbb6c18c",
   "metadata": {},
   "outputs": [
    {
     "data": {
      "text/plain": [
       "'https://www.nfdi.de'"
      ]
     },
     "execution_count": 3,
     "metadata": {},
     "output_type": "execute_result"
    }
   ],
   "source": [
    "nfdi.homepage"
   ]
  },
  {
   "cell_type": "code",
   "execution_count": 4,
   "id": "3c399d9c",
   "metadata": {},
   "outputs": [
    {
     "data": {
      "text/plain": [
       "['BERD@NFDI',\n",
       " 'DAPHNE4NFDI',\n",
       " 'DataPlant',\n",
       " 'FAIRmat',\n",
       " 'GHGA',\n",
       " 'KonsortSWD',\n",
       " 'MaRDI',\n",
       " 'NFDI-MatWerk',\n",
       " 'NFDI4BioDiversity',\n",
       " 'NFDI4Cat',\n",
       " 'NFDI4Chem',\n",
       " 'NFDI4Culture',\n",
       " 'NFDI4DataScience',\n",
       " 'NFDI4Earth',\n",
       " 'NFDI4Health',\n",
       " 'NFDI4Ing',\n",
       " 'NFDI4Microbiota',\n",
       " 'PUNCH4NFDI',\n",
       " 'Text+']"
      ]
     },
     "execution_count": 4,
     "metadata": {},
     "output_type": "execute_result"
    }
   ],
   "source": [
    "nfdi.labels"
   ]
  },
  {
   "cell_type": "code",
   "execution_count": 5,
   "id": "126376b4",
   "metadata": {},
   "outputs": [
    {
     "data": {
      "text/plain": [
       "'https://www.google.com/search?kgmid=/g/11h3k116k1'"
      ]
     },
     "execution_count": 5,
     "metadata": {},
     "output_type": "execute_result"
    }
   ],
   "source": [
    "nfdi.google"
   ]
  },
  {
   "cell_type": "markdown",
   "id": "b29fdc52-53ff-44ce-a244-14b2ac27664e",
   "metadata": {},
   "source": [
    "The attribut `consortia` contains a list of instances `consortium` from the module `info`:"
   ]
  },
  {
   "cell_type": "code",
   "execution_count": 6,
   "id": "93fea120-514a-4d47-bb47-bfb8f61082d8",
   "metadata": {},
   "outputs": [
    {
     "data": {
      "text/plain": [
       "[consortium(label='BERD@NFDI'),\n",
       " consortium(label='DAPHNE4NFDI'),\n",
       " consortium(label='DataPlant'),\n",
       " consortium(label='FAIRmat'),\n",
       " consortium(label='GHGA'),\n",
       " consortium(label='KonsortSWD'),\n",
       " consortium(label='MaRDI'),\n",
       " consortium(label='NFDI-MatWerk'),\n",
       " consortium(label='NFDI4BioDiversity'),\n",
       " consortium(label='NFDI4Cat'),\n",
       " consortium(label='NFDI4Chem'),\n",
       " consortium(label='NFDI4Culture'),\n",
       " consortium(label='NFDI4DataScience'),\n",
       " consortium(label='NFDI4Earth'),\n",
       " consortium(label='NFDI4Health'),\n",
       " consortium(label='NFDI4Ing'),\n",
       " consortium(label='NFDI4Microbiota'),\n",
       " consortium(label='PUNCH4NFDI'),\n",
       " consortium(label='Text+')]"
      ]
     },
     "execution_count": 6,
     "metadata": {},
     "output_type": "execute_result"
    }
   ],
   "source": [
    "nfdi.consortia"
   ]
  },
  {
   "cell_type": "markdown",
   "id": "514abb33",
   "metadata": {},
   "source": [
    "Every instance of `consortium` has almost the same attributes as instance of `consortia`:"
   ]
  },
  {
   "cell_type": "code",
   "execution_count": 7,
   "id": "7ecd2bdb",
   "metadata": {},
   "outputs": [
    {
     "data": {
      "text/plain": [
       "{'label': str,\n",
       " 'homepage': str,\n",
       " 'wikidata': str,\n",
       " 'github': str,\n",
       " 'google': str,\n",
       " 'linkedin': str,\n",
       " 'twitter': str,\n",
       " 'youtube': str,\n",
       " 'inception': str,\n",
       " 'zenodo': str}"
      ]
     },
     "execution_count": 7,
     "metadata": {},
     "output_type": "execute_result"
    }
   ],
   "source": [
    "nfdi.consortia[0].__annotations__"
   ]
  },
  {
   "cell_type": "code",
   "execution_count": 8,
   "id": "a8faf192-baff-49b7-84d3-5b50b0f87756",
   "metadata": {},
   "outputs": [
    {
     "data": {
      "text/plain": [
       "'BERD@NFDI'"
      ]
     },
     "execution_count": 8,
     "metadata": {},
     "output_type": "execute_result"
    }
   ],
   "source": [
    "nfdi.consortia[0].label"
   ]
  },
  {
   "cell_type": "code",
   "execution_count": 9,
   "id": "6b1d750f-a582-4f26-9c3f-16da678194ea",
   "metadata": {},
   "outputs": [
    {
     "data": {
      "text/plain": [
       "'http://www.wikidata.org/entity/Q108542181'"
      ]
     },
     "execution_count": 9,
     "metadata": {},
     "output_type": "execute_result"
    }
   ],
   "source": [
    "nfdi.consortia[0].wikidata"
   ]
  },
  {
   "cell_type": "code",
   "execution_count": 10,
   "id": "302c96ff-6ad6-407b-b978-7748151d9ed3",
   "metadata": {},
   "outputs": [
    {
     "data": {
      "text/plain": [
       "'https://twitter.com/BERD_NFDI'"
      ]
     },
     "execution_count": 10,
     "metadata": {},
     "output_type": "execute_result"
    }
   ],
   "source": [
    "nfdi.consortia[0].twitter"
   ]
  },
  {
   "cell_type": "markdown",
   "id": "e8ae12c3-84ba-4d3a-8f22-21f9df0c3ec6",
   "metadata": {},
   "source": [
    "You can also create an instance of `consortium` via:"
   ]
  },
  {
   "cell_type": "code",
   "execution_count": 11,
   "id": "23883949-3fc5-4384-9700-2d29eee9e32f",
   "metadata": {},
   "outputs": [
    {
     "name": "stdout",
     "output_type": "stream",
     "text": [
      "https://www.berd-nfdi.de\n"
     ]
    }
   ],
   "source": [
    "berd = info.consortium('BERD@NFDI')\n",
    "print(berd.homepage)"
   ]
  },
  {
   "cell_type": "markdown",
   "id": "5f94973c-60e1-410d-9f30-ffd1adb3c628",
   "metadata": {},
   "source": [
    "This can be used as validator. Let's try to create an instance of consortium with incorrect label:"
   ]
  },
  {
   "cell_type": "code",
   "execution_count": 12,
   "id": "edccb152-5723-4f37-b15b-97e153a9b106",
   "metadata": {},
   "outputs": [
    {
     "name": "stdout",
     "output_type": "stream",
     "text": [
      "WARNING: Empty instance of consortium is returned. The label 'BERD' is not in ['BERD@NFDI', 'DAPHNE4NFDI', 'DataPlant', 'FAIRmat', 'GHGA', 'KonsortSWD', 'MaRDI', 'NFDI-MatWerk', 'NFDI4BioDiversity', 'NFDI4Cat', 'NFDI4Chem', 'NFDI4Culture', 'NFDI4DataScience', 'NFDI4Earth', 'NFDI4Health', 'NFDI4Ing', 'NFDI4Microbiota', 'PUNCH4NFDI', 'Text+']\n"
     ]
    }
   ],
   "source": [
    "ber = info.consortium('BERD')"
   ]
  },
  {
   "cell_type": "markdown",
   "id": "618069bb-4a46-4f90-97b8-414263be2f9a",
   "metadata": {},
   "source": [
    "## Methods"
   ]
  },
  {
   "cell_type": "markdown",
   "id": "5d1e28f2-d826-4bd5-90b4-a1af6269ebd1",
   "metadata": {},
   "source": [
    "Instances of `consortia` and `consortium` have the following methods:"
   ]
  },
  {
   "cell_type": "code",
   "execution_count": 13,
   "id": "5bbb24ab-c43f-4be2-b379-e7ccbad23e48",
   "metadata": {},
   "outputs": [
    {
     "name": "stdout",
     "output_type": "stream",
     "text": [
      "{'github': '',\n",
      " 'google': '',\n",
      " 'homepage': 'https://www.berd-nfdi.de',\n",
      " 'inception': '2021-10-01T00:00:00Z',\n",
      " 'label': 'BERD@NFDI',\n",
      " 'linkedin': 'https://www.linkedin.com/company/berd-nfdi',\n",
      " 'twitter': 'https://twitter.com/BERD_NFDI',\n",
      " 'wikidata': 'http://www.wikidata.org/entity/Q108542181',\n",
      " 'youtube': '',\n",
      " 'zenodo': ''}\n"
     ]
    }
   ],
   "source": [
    "berd.print()"
   ]
  },
  {
   "cell_type": "code",
   "execution_count": 14,
   "id": "8265c4a8-cf55-44e9-b1b0-9714fdd1ad0b",
   "metadata": {},
   "outputs": [
    {
     "name": "stdout",
     "output_type": "stream",
     "text": [
      "{'label': 'BERD@NFDI', 'homepage': 'https://www.berd-nfdi.de', 'wikidata': 'http://www.wikidata.org/entity/Q108542181', 'github': '', 'google': '', 'linkedin': 'https://www.linkedin.com/company/berd-nfdi', 'twitter': 'https://twitter.com/BERD_NFDI', 'youtube': '', 'inception': '2021-10-01T00:00:00Z', 'zenodo': ''}\n"
     ]
    }
   ],
   "source": [
    "d = berd.dict()\n",
    "print(d)"
   ]
  },
  {
   "cell_type": "code",
   "execution_count": 15,
   "id": "12694aea-5ec5-4673-b941-dff98fb814a0",
   "metadata": {},
   "outputs": [],
   "source": [
    "json = berd._wikidata()"
   ]
  },
  {
   "cell_type": "code",
   "execution_count": 16,
   "id": "56e5c77c-1a01-4aa1-8eb2-a5cbf492e11c",
   "metadata": {},
   "outputs": [
    {
     "name": "stdout",
     "output_type": "stream",
     "text": [
      "LABELS {'en': {'language': 'en', 'value': 'BERD@NFDI'}, 'de': {'language': 'de', 'value': 'BERD@NFDI'}, 'fr': {'language': 'fr', 'value': 'BERD@NFDI'}, 'bar': {'language': 'bar', 'value': 'BERD@NFDI'}, 'de-at': {'language': 'de-at', 'value': 'BERD@NFDI'}, 'de-ch': {'language': 'de-ch', 'value': 'BERD@NFDI'}, 'de-formal': {'language': 'de-formal', 'value': 'BERD@NFDI'}, 'en-ca': {'language': 'en-ca', 'value': 'BERD@NFDI'}, 'en-gb': {'language': 'en-gb', 'value': 'BERD@NFDI'}, 'es': {'language': 'es', 'value': 'BERD@NFDI'}, 'nl': {'language': 'nl', 'value': 'BERD@NFDI'}, 'pt': {'language': 'pt', 'value': 'BERD@NFDI'}, 'simple': {'language': 'simple', 'value': 'BERD@NFDI'}}\n",
      "DESCRIPTIONS {'en': {'language': 'en', 'value': 'NFDI consortium for Business, Economic and Related Data (Social and Behavioural Sciences)'}, 'de': {'language': 'de', 'value': 'NFDI für Wirtschaftsdaten und Verwandtes (Sozial- und Verhaltenswissenschaften)'}}\n",
      "ALIASES {'en': [{'language': 'en', 'value': 'BERD-NFDI'}], 'de': [{'language': 'de', 'value': 'BERD-NFDI'}], 'fr': [{'language': 'fr', 'value': 'BERD-NFDI'}], 'bar': [{'language': 'bar', 'value': 'BERD-NFDI'}], 'de-at': [{'language': 'de-at', 'value': 'BERD-NFDI'}], 'de-ch': [{'language': 'de-ch', 'value': 'BERD-NFDI'}], 'de-formal': [{'language': 'de-formal', 'value': 'BERD-NFDI'}], 'en-ca': [{'language': 'en-ca', 'value': 'BERD-NFDI'}], 'en-gb': [{'language': 'en-gb', 'value': 'BERD-NFDI'}], 'es': [{'language': 'es', 'value': 'BERD-NFDI'}], 'nl': [{'language': 'nl', 'value': 'BERD-NFDI'}], 'pt': [{'language': 'pt', 'value': 'BERD-NFDI'}], 'simple': [{'language': 'simple', 'value': 'BERD-NFDI'}]}\n"
     ]
    }
   ],
   "source": [
    "print('LABELS', json.get('labels'))\n",
    "print('DESCRIPTIONS', json.get('descriptions'))\n",
    "print('ALIASES', json.get('aliases'))"
   ]
  },
  {
   "cell_type": "code",
   "execution_count": 17,
   "id": "02504d41-dbea-4012-bc38-01703f15fad1",
   "metadata": {},
   "outputs": [
    {
     "data": {
      "text/plain": [
       "{'pageid': 103778451,\n",
       " 'ns': 0,\n",
       " 'title': 'Q108542181',\n",
       " 'lastrevid': 1503367000,\n",
       " 'modified': '2021-09-25T22:55:27Z',\n",
       " 'type': 'item',\n",
       " 'id': 'Q108542181',\n",
       " 'labels': {'en': {'language': 'en', 'value': 'BERD@NFDI'},\n",
       "  'de': {'language': 'de', 'value': 'BERD@NFDI'},\n",
       "  'fr': {'language': 'fr', 'value': 'BERD@NFDI'},\n",
       "  'bar': {'language': 'bar', 'value': 'BERD@NFDI'},\n",
       "  'de-at': {'language': 'de-at', 'value': 'BERD@NFDI'},\n",
       "  'de-ch': {'language': 'de-ch', 'value': 'BERD@NFDI'},\n",
       "  'de-formal': {'language': 'de-formal', 'value': 'BERD@NFDI'},\n",
       "  'en-ca': {'language': 'en-ca', 'value': 'BERD@NFDI'},\n",
       "  'en-gb': {'language': 'en-gb', 'value': 'BERD@NFDI'},\n",
       "  'es': {'language': 'es', 'value': 'BERD@NFDI'},\n",
       "  'nl': {'language': 'nl', 'value': 'BERD@NFDI'},\n",
       "  'pt': {'language': 'pt', 'value': 'BERD@NFDI'},\n",
       "  'simple': {'language': 'simple', 'value': 'BERD@NFDI'}},\n",
       " 'descriptions': {'en': {'language': 'en',\n",
       "   'value': 'NFDI consortium for Business, Economic and Related Data (Social and Behavioural Sciences)'},\n",
       "  'de': {'language': 'de',\n",
       "   'value': 'NFDI für Wirtschaftsdaten und Verwandtes (Sozial- und Verhaltenswissenschaften)'}},\n",
       " 'aliases': {'en': [{'language': 'en', 'value': 'BERD-NFDI'}],\n",
       "  'de': [{'language': 'de', 'value': 'BERD-NFDI'}],\n",
       "  'fr': [{'language': 'fr', 'value': 'BERD-NFDI'}],\n",
       "  'bar': [{'language': 'bar', 'value': 'BERD-NFDI'}],\n",
       "  'de-at': [{'language': 'de-at', 'value': 'BERD-NFDI'}],\n",
       "  'de-ch': [{'language': 'de-ch', 'value': 'BERD-NFDI'}],\n",
       "  'de-formal': [{'language': 'de-formal', 'value': 'BERD-NFDI'}],\n",
       "  'en-ca': [{'language': 'en-ca', 'value': 'BERD-NFDI'}],\n",
       "  'en-gb': [{'language': 'en-gb', 'value': 'BERD-NFDI'}],\n",
       "  'es': [{'language': 'es', 'value': 'BERD-NFDI'}],\n",
       "  'nl': [{'language': 'nl', 'value': 'BERD-NFDI'}],\n",
       "  'pt': [{'language': 'pt', 'value': 'BERD-NFDI'}],\n",
       "  'simple': [{'language': 'simple', 'value': 'BERD-NFDI'}]},\n",
       " 'claims': {'P31': [{'mainsnak': {'snaktype': 'value',\n",
       "     'property': 'P31',\n",
       "     'hash': '607a32b2b9d145ff578910452b461cc47aea28ad',\n",
       "     'datavalue': {'value': {'entity-type': 'item',\n",
       "       'numeric-id': 96678469,\n",
       "       'id': 'Q96678469'},\n",
       "      'type': 'wikibase-entityid'},\n",
       "     'datatype': 'wikibase-item'},\n",
       "    'type': 'statement',\n",
       "    'id': 'Q108542181$af938c4a-4d5c-ad19-4589-207ef7b70f4a',\n",
       "    'rank': 'normal'},\n",
       "   {'mainsnak': {'snaktype': 'value',\n",
       "     'property': 'P31',\n",
       "     'hash': 'e81510b4df2b68723eb46ba3b9753e1f06b33242',\n",
       "     'datavalue': {'value': {'entity-type': 'item',\n",
       "       'numeric-id': 98270496,\n",
       "       'id': 'Q98270496'},\n",
       "      'type': 'wikibase-entityid'},\n",
       "     'datatype': 'wikibase-item'},\n",
       "    'type': 'statement',\n",
       "    'id': 'Q108542181$b2937789-4142-b644-b80e-8b3ed07fae8d',\n",
       "    'rank': 'normal',\n",
       "    'references': [{'hash': '94ddc112afae762c5ba5becff7ad2ba110cab08c',\n",
       "      'snaks': {'P854': [{'snaktype': 'value',\n",
       "         'property': 'P854',\n",
       "         'hash': '93e4896e2265aa78cd729040346f1697bbef0342',\n",
       "         'datavalue': {'value': 'https://www.dfg.de/en/research_funding/programmes/nfdi/funded_consortia/index.html',\n",
       "          'type': 'string'},\n",
       "         'datatype': 'url'}]},\n",
       "      'snaks-order': ['P854']}]},\n",
       "   {'mainsnak': {'snaktype': 'value',\n",
       "     'property': 'P31',\n",
       "     'hash': '1da6444a3b2008edd44c01a14736ddb97d4785c7',\n",
       "     'datavalue': {'value': {'entity-type': 'item',\n",
       "       'numeric-id': 1298668,\n",
       "       'id': 'Q1298668'},\n",
       "      'type': 'wikibase-entityid'},\n",
       "     'datatype': 'wikibase-item'},\n",
       "    'type': 'statement',\n",
       "    'id': 'Q108542181$21718b67-40f0-f454-6045-f69dbf2d248b',\n",
       "    'rank': 'normal',\n",
       "    'references': [{'hash': '17595c32cc607b720761cd3877e94e897f31ef52',\n",
       "      'snaks': {'P854': [{'snaktype': 'value',\n",
       "         'property': 'P854',\n",
       "         'hash': 'dfffcbb005d81337c91cd4be6f21db39504b6f20',\n",
       "         'datavalue': {'value': 'https://gepris.dfg.de/gepris/projekt/460037581',\n",
       "          'type': 'string'},\n",
       "         'datatype': 'url'}]},\n",
       "      'snaks-order': ['P854']}]}],\n",
       "  'P279': [{'mainsnak': {'snaktype': 'value',\n",
       "     'property': 'P279',\n",
       "     'hash': '70336113826d7017d5e5fc2be15e4362ea9445b7',\n",
       "     'datavalue': {'value': {'entity-type': 'item',\n",
       "       'numeric-id': 43229,\n",
       "       'id': 'Q43229'},\n",
       "      'type': 'wikibase-entityid'},\n",
       "     'datatype': 'wikibase-item'},\n",
       "    'type': 'statement',\n",
       "    'id': 'Q108542181$a80f09db-4355-6fac-80c4-8a56bc5eed4c',\n",
       "    'rank': 'normal'}],\n",
       "  'P361': [{'mainsnak': {'snaktype': 'value',\n",
       "     'property': 'P361',\n",
       "     'hash': 'afac7bfda89698bed230d7f4d4bb5c11b69e8487',\n",
       "     'datavalue': {'value': {'entity-type': 'item',\n",
       "       'numeric-id': 61658497,\n",
       "       'id': 'Q61658497'},\n",
       "      'type': 'wikibase-entityid'},\n",
       "     'datatype': 'wikibase-item'},\n",
       "    'type': 'statement',\n",
       "    'id': 'Q108542181$7bc3dc5b-4792-1a49-b840-c52a573e99fa',\n",
       "    'rank': 'normal',\n",
       "    'references': [{'hash': '94ddc112afae762c5ba5becff7ad2ba110cab08c',\n",
       "      'snaks': {'P854': [{'snaktype': 'value',\n",
       "         'property': 'P854',\n",
       "         'hash': '93e4896e2265aa78cd729040346f1697bbef0342',\n",
       "         'datavalue': {'value': 'https://www.dfg.de/en/research_funding/programmes/nfdi/funded_consortia/index.html',\n",
       "          'type': 'string'},\n",
       "         'datatype': 'url'}]},\n",
       "      'snaks-order': ['P854']}]}],\n",
       "  'P101': [{'mainsnak': {'snaktype': 'value',\n",
       "     'property': 'P101',\n",
       "     'hash': '169145c689b99bc71847233413636e2628ed87ee',\n",
       "     'datavalue': {'value': {'entity-type': 'item',\n",
       "       'numeric-id': 1438053,\n",
       "       'id': 'Q1438053'},\n",
       "      'type': 'wikibase-entityid'},\n",
       "     'datatype': 'wikibase-item'},\n",
       "    'type': 'statement',\n",
       "    'id': 'Q108542181$0fb3edcc-41a5-795b-5cf4-ecfd85fafa96',\n",
       "    'rank': 'normal'},\n",
       "   {'mainsnak': {'snaktype': 'value',\n",
       "     'property': 'P101',\n",
       "     'hash': 'ea79fef6ca4ec7fa5a192b62b9b3479200d97fec',\n",
       "     'datavalue': {'value': {'entity-type': 'item',\n",
       "       'numeric-id': 5001951,\n",
       "       'id': 'Q5001951'},\n",
       "      'type': 'wikibase-entityid'},\n",
       "     'datatype': 'wikibase-item'},\n",
       "    'type': 'statement',\n",
       "    'id': 'Q108542181$0c536aa4-4e91-3f09-d86f-f5cba107b130',\n",
       "    'rank': 'normal'},\n",
       "   {'mainsnak': {'snaktype': 'value',\n",
       "     'property': 'P101',\n",
       "     'hash': '9fac41dd2cddb835d6799f25d34d55630f8e8e7c',\n",
       "     'datavalue': {'value': {'entity-type': 'item',\n",
       "       'numeric-id': 8134,\n",
       "       'id': 'Q8134'},\n",
       "      'type': 'wikibase-entityid'},\n",
       "     'datatype': 'wikibase-item'},\n",
       "    'type': 'statement',\n",
       "    'id': 'Q108542181$a255b277-48e9-22e2-ac9a-b74a5d82a9c1',\n",
       "    'rank': 'normal'},\n",
       "   {'mainsnak': {'snaktype': 'value',\n",
       "     'property': 'P101',\n",
       "     'hash': '1cca8a783e64eaa550afd29a1ea5ca95f2b95070',\n",
       "     'datavalue': {'value': {'entity-type': 'item',\n",
       "       'numeric-id': 34749,\n",
       "       'id': 'Q34749'},\n",
       "      'type': 'wikibase-entityid'},\n",
       "     'datatype': 'wikibase-item'},\n",
       "    'type': 'statement',\n",
       "    'id': 'Q108542181$8f72796e-4d50-940b-51fa-dc418a07625b',\n",
       "    'rank': 'normal'}],\n",
       "  'P749': [{'mainsnak': {'snaktype': 'value',\n",
       "     'property': 'P749',\n",
       "     'hash': 'c0dadf7b62412c0b25155b493d7be6ce303d1d51',\n",
       "     'datavalue': {'value': {'entity-type': 'item',\n",
       "       'numeric-id': 61658497,\n",
       "       'id': 'Q61658497'},\n",
       "      'type': 'wikibase-entityid'},\n",
       "     'datatype': 'wikibase-item'},\n",
       "    'type': 'statement',\n",
       "    'id': 'Q108542181$023a0e48-4783-997a-e913-a85f1fd5f42a',\n",
       "    'rank': 'normal'}],\n",
       "  'P859': [{'mainsnak': {'snaktype': 'value',\n",
       "     'property': 'P859',\n",
       "     'hash': '0793b5664f4da2bae0d67245a14bfa2cdbfbb994',\n",
       "     'datavalue': {'value': {'entity-type': 'item',\n",
       "       'numeric-id': 707283,\n",
       "       'id': 'Q707283'},\n",
       "      'type': 'wikibase-entityid'},\n",
       "     'datatype': 'wikibase-item'},\n",
       "    'type': 'statement',\n",
       "    'id': 'Q108542181$7e49da7f-4cbb-9cef-b7f3-66b1a60578e4',\n",
       "    'rank': 'normal'}],\n",
       "  'P2002': [{'mainsnak': {'snaktype': 'value',\n",
       "     'property': 'P2002',\n",
       "     'hash': '050fb56ff52b0014fde0879448237aa425481737',\n",
       "     'datavalue': {'value': 'BERD_NFDI', 'type': 'string'},\n",
       "     'datatype': 'external-id'},\n",
       "    'type': 'statement',\n",
       "    'qualifiers': {'P6552': [{'snaktype': 'value',\n",
       "       'property': 'P6552',\n",
       "       'hash': '0432a4b5513d844c7a1e58576ee1c53e70028a90',\n",
       "       'datavalue': {'value': '1410585471982374912', 'type': 'string'},\n",
       "       'datatype': 'external-id'}],\n",
       "     'P580': [{'snaktype': 'value',\n",
       "       'property': 'P580',\n",
       "       'hash': '912e4e7b73654a7762d744e145473067d305ae2a',\n",
       "       'datavalue': {'value': {'time': '+2021-00-00T00:00:00Z',\n",
       "         'timezone': 0,\n",
       "         'before': 0,\n",
       "         'after': 0,\n",
       "         'precision': 9,\n",
       "         'calendarmodel': 'http://www.wikidata.org/entity/Q1985727'},\n",
       "        'type': 'time'},\n",
       "       'datatype': 'time'}]},\n",
       "    'qualifiers-order': ['P6552', 'P580'],\n",
       "    'id': 'Q108542181$9bb06d31-46ed-3a4c-c496-01497010a929',\n",
       "    'rank': 'normal',\n",
       "    'references': [{'hash': '74e2b9dab00cd4da071b992febe508d4e9a5b44b',\n",
       "      'snaks': {'P854': [{'snaktype': 'value',\n",
       "         'property': 'P854',\n",
       "         'hash': '4505a1b3709c9dc32e190d9d182e161eb70ef6fa',\n",
       "         'datavalue': {'value': 'https://www.berd-nfdi.de', 'type': 'string'},\n",
       "         'datatype': 'url'}]},\n",
       "      'snaks-order': ['P854']}]}],\n",
       "  'P856': [{'mainsnak': {'snaktype': 'value',\n",
       "     'property': 'P856',\n",
       "     'hash': 'a1f65d51372d1b36b5cb51e1f0d28ee3c63cebc4',\n",
       "     'datavalue': {'value': 'https://www.berd-nfdi.de', 'type': 'string'},\n",
       "     'datatype': 'url'},\n",
       "    'type': 'statement',\n",
       "    'qualifiers': {'P407': [{'snaktype': 'value',\n",
       "       'property': 'P407',\n",
       "       'hash': 'daf1c4fcb58181b02dff9cc89deb084004ddae4b',\n",
       "       'datavalue': {'value': {'entity-type': 'item',\n",
       "         'numeric-id': 1860,\n",
       "         'id': 'Q1860'},\n",
       "        'type': 'wikibase-entityid'},\n",
       "       'datatype': 'wikibase-item'}]},\n",
       "    'qualifiers-order': ['P407'],\n",
       "    'id': 'Q108542181$e36eb2a2-40a5-41b2-7e76-5c479e39aea1',\n",
       "    'rank': 'normal'}],\n",
       "  'P4264': [{'mainsnak': {'snaktype': 'value',\n",
       "     'property': 'P4264',\n",
       "     'hash': '0eeace267bbf2bde43e21c461f9184830ef527c7',\n",
       "     'datavalue': {'value': 'berd-nfdi', 'type': 'string'},\n",
       "     'datatype': 'external-id'},\n",
       "    'type': 'statement',\n",
       "    'id': 'Q108542181$50d12605-4618-b696-78f2-fe05323f3251',\n",
       "    'rank': 'normal',\n",
       "    'references': [{'hash': '74e2b9dab00cd4da071b992febe508d4e9a5b44b',\n",
       "      'snaks': {'P854': [{'snaktype': 'value',\n",
       "         'property': 'P854',\n",
       "         'hash': '4505a1b3709c9dc32e190d9d182e161eb70ef6fa',\n",
       "         'datavalue': {'value': 'https://www.berd-nfdi.de', 'type': 'string'},\n",
       "         'datatype': 'url'}]},\n",
       "      'snaks-order': ['P854']}]}],\n",
       "  'P4870': [{'mainsnak': {'snaktype': 'value',\n",
       "     'property': 'P4870',\n",
       "     'hash': '4750b1841ff3e3ba92485d8128fb50eaf56c2ac3',\n",
       "     'datavalue': {'value': '460037581', 'type': 'string'},\n",
       "     'datatype': 'external-id'},\n",
       "    'type': 'statement',\n",
       "    'id': 'Q108542181$a3284e88-42eb-7e3c-a60e-d4140b6af92d',\n",
       "    'rank': 'normal'}],\n",
       "  'P1416': [{'mainsnak': {'snaktype': 'value',\n",
       "     'property': 'P1416',\n",
       "     'hash': 'abd8c42a079bfd5a53153fd2383466b245804a3d',\n",
       "     'datavalue': {'value': {'entity-type': 'item',\n",
       "       'numeric-id': 317070,\n",
       "       'id': 'Q317070'},\n",
       "      'type': 'wikibase-entityid'},\n",
       "     'datatype': 'wikibase-item'},\n",
       "    'type': 'statement',\n",
       "    'qualifiers': {'P3831': [{'snaktype': 'value',\n",
       "       'property': 'P3831',\n",
       "       'hash': 'bba1b7e410c47001d55622f0cb2424b50243053d',\n",
       "       'datavalue': {'value': {'entity-type': 'item',\n",
       "         'numeric-id': 105906729,\n",
       "         'id': 'Q105906729'},\n",
       "        'type': 'wikibase-entityid'},\n",
       "       'datatype': 'wikibase-item'}]},\n",
       "    'qualifiers-order': ['P3831'],\n",
       "    'id': 'Q108542181$2063c8a0-4b23-acf9-50ab-ac2c5988d3d0',\n",
       "    'rank': 'normal',\n",
       "    'references': [{'hash': '17595c32cc607b720761cd3877e94e897f31ef52',\n",
       "      'snaks': {'P854': [{'snaktype': 'value',\n",
       "         'property': 'P854',\n",
       "         'hash': 'dfffcbb005d81337c91cd4be6f21db39504b6f20',\n",
       "         'datavalue': {'value': 'https://gepris.dfg.de/gepris/projekt/460037581',\n",
       "          'type': 'string'},\n",
       "         'datatype': 'url'}]},\n",
       "      'snaks-order': ['P854']}]},\n",
       "   {'mainsnak': {'snaktype': 'value',\n",
       "     'property': 'P1416',\n",
       "     'hash': '7ce6922dda943da6bb22709b12c6691f51f12dd8',\n",
       "     'datavalue': {'value': {'entity-type': 'item',\n",
       "       'numeric-id': 1485220,\n",
       "       'id': 'Q1485220'},\n",
       "      'type': 'wikibase-entityid'},\n",
       "     'datatype': 'wikibase-item'},\n",
       "    'type': 'statement',\n",
       "    'qualifiers': {'P3831': [{'snaktype': 'value',\n",
       "       'property': 'P3831',\n",
       "       'hash': 'f469b322088d727d39e7a252bb0a3e6f878dd816',\n",
       "       'datavalue': {'value': {'entity-type': 'item',\n",
       "         'numeric-id': 105906738,\n",
       "         'id': 'Q105906738'},\n",
       "        'type': 'wikibase-entityid'},\n",
       "       'datatype': 'wikibase-item'}]},\n",
       "    'qualifiers-order': ['P3831'],\n",
       "    'id': 'Q108542181$b89c9933-490f-291f-67ff-0f4e2d52ace1',\n",
       "    'rank': 'normal',\n",
       "    'references': [{'hash': '17595c32cc607b720761cd3877e94e897f31ef52',\n",
       "      'snaks': {'P854': [{'snaktype': 'value',\n",
       "         'property': 'P854',\n",
       "         'hash': 'dfffcbb005d81337c91cd4be6f21db39504b6f20',\n",
       "         'datavalue': {'value': 'https://gepris.dfg.de/gepris/projekt/460037581',\n",
       "          'type': 'string'},\n",
       "         'datatype': 'url'}]},\n",
       "      'snaks-order': ['P854']}]},\n",
       "   {'mainsnak': {'snaktype': 'value',\n",
       "     'property': 'P1416',\n",
       "     'hash': '83c54fe5bbc79bc4fc0975afa27181c3e1f6ab4f',\n",
       "     'datavalue': {'value': {'entity-type': 'item',\n",
       "       'numeric-id': 1664805,\n",
       "       'id': 'Q1664805'},\n",
       "      'type': 'wikibase-entityid'},\n",
       "     'datatype': 'wikibase-item'},\n",
       "    'type': 'statement',\n",
       "    'qualifiers': {'P3831': [{'snaktype': 'value',\n",
       "       'property': 'P3831',\n",
       "       'hash': 'f469b322088d727d39e7a252bb0a3e6f878dd816',\n",
       "       'datavalue': {'value': {'entity-type': 'item',\n",
       "         'numeric-id': 105906738,\n",
       "         'id': 'Q105906738'},\n",
       "        'type': 'wikibase-entityid'},\n",
       "       'datatype': 'wikibase-item'}]},\n",
       "    'qualifiers-order': ['P3831'],\n",
       "    'id': 'Q108542181$23282177-479a-20d6-455a-199c50d26b03',\n",
       "    'rank': 'normal',\n",
       "    'references': [{'hash': '17595c32cc607b720761cd3877e94e897f31ef52',\n",
       "      'snaks': {'P854': [{'snaktype': 'value',\n",
       "         'property': 'P854',\n",
       "         'hash': 'dfffcbb005d81337c91cd4be6f21db39504b6f20',\n",
       "         'datavalue': {'value': 'https://gepris.dfg.de/gepris/projekt/460037581',\n",
       "          'type': 'string'},\n",
       "         'datatype': 'url'}]},\n",
       "      'snaks-order': ['P854']}]},\n",
       "   {'mainsnak': {'snaktype': 'value',\n",
       "     'property': 'P1416',\n",
       "     'hash': 'db56a239399cb6336b0b314c981f6c8911e78c26',\n",
       "     'datavalue': {'value': {'entity-type': 'item',\n",
       "       'numeric-id': 55044,\n",
       "       'id': 'Q55044'},\n",
       "      'type': 'wikibase-entityid'},\n",
       "     'datatype': 'wikibase-item'},\n",
       "    'type': 'statement',\n",
       "    'qualifiers': {'P3831': [{'snaktype': 'value',\n",
       "       'property': 'P3831',\n",
       "       'hash': 'f469b322088d727d39e7a252bb0a3e6f878dd816',\n",
       "       'datavalue': {'value': {'entity-type': 'item',\n",
       "         'numeric-id': 105906738,\n",
       "         'id': 'Q105906738'},\n",
       "        'type': 'wikibase-entityid'},\n",
       "       'datatype': 'wikibase-item'}]},\n",
       "    'qualifiers-order': ['P3831'],\n",
       "    'id': 'Q108542181$400dd623-48c3-fac8-2802-d73cef715542',\n",
       "    'rank': 'normal',\n",
       "    'references': [{'hash': '17595c32cc607b720761cd3877e94e897f31ef52',\n",
       "      'snaks': {'P854': [{'snaktype': 'value',\n",
       "         'property': 'P854',\n",
       "         'hash': 'dfffcbb005d81337c91cd4be6f21db39504b6f20',\n",
       "         'datavalue': {'value': 'https://gepris.dfg.de/gepris/projekt/460037581',\n",
       "          'type': 'string'},\n",
       "         'datatype': 'url'}]},\n",
       "      'snaks-order': ['P854']}]},\n",
       "   {'mainsnak': {'snaktype': 'value',\n",
       "     'property': 'P1416',\n",
       "     'hash': 'f9b8ff0235e3f965161ef76a28763aa8aff112e7',\n",
       "     'datavalue': {'value': {'entity-type': 'item',\n",
       "       'numeric-id': 156725,\n",
       "       'id': 'Q156725'},\n",
       "      'type': 'wikibase-entityid'},\n",
       "     'datatype': 'wikibase-item'},\n",
       "    'type': 'statement',\n",
       "    'qualifiers': {'P3831': [{'snaktype': 'value',\n",
       "       'property': 'P3831',\n",
       "       'hash': 'f469b322088d727d39e7a252bb0a3e6f878dd816',\n",
       "       'datavalue': {'value': {'entity-type': 'item',\n",
       "         'numeric-id': 105906738,\n",
       "         'id': 'Q105906738'},\n",
       "        'type': 'wikibase-entityid'},\n",
       "       'datatype': 'wikibase-item'}]},\n",
       "    'qualifiers-order': ['P3831'],\n",
       "    'id': 'Q108542181$f734f8ff-4b07-d35d-8b45-da81b137923b',\n",
       "    'rank': 'normal',\n",
       "    'references': [{'hash': '17595c32cc607b720761cd3877e94e897f31ef52',\n",
       "      'snaks': {'P854': [{'snaktype': 'value',\n",
       "         'property': 'P854',\n",
       "         'hash': 'dfffcbb005d81337c91cd4be6f21db39504b6f20',\n",
       "         'datavalue': {'value': 'https://gepris.dfg.de/gepris/projekt/460037581',\n",
       "          'type': 'string'},\n",
       "         'datatype': 'url'}]},\n",
       "      'snaks-order': ['P854']}]},\n",
       "   {'mainsnak': {'snaktype': 'value',\n",
       "     'property': 'P1416',\n",
       "     'hash': '997ee0a35665bcdb51c0e6701c2c85e6b2402211',\n",
       "     'datavalue': {'value': {'entity-type': 'item',\n",
       "       'numeric-id': 54096,\n",
       "       'id': 'Q54096'},\n",
       "      'type': 'wikibase-entityid'},\n",
       "     'datatype': 'wikibase-item'},\n",
       "    'type': 'statement',\n",
       "    'qualifiers': {'P3831': [{'snaktype': 'value',\n",
       "       'property': 'P3831',\n",
       "       'hash': 'f469b322088d727d39e7a252bb0a3e6f878dd816',\n",
       "       'datavalue': {'value': {'entity-type': 'item',\n",
       "         'numeric-id': 105906738,\n",
       "         'id': 'Q105906738'},\n",
       "        'type': 'wikibase-entityid'},\n",
       "       'datatype': 'wikibase-item'}]},\n",
       "    'qualifiers-order': ['P3831'],\n",
       "    'id': 'Q108542181$62aa25ee-4586-43d1-773d-f49bb229e091',\n",
       "    'rank': 'normal',\n",
       "    'references': [{'hash': '17595c32cc607b720761cd3877e94e897f31ef52',\n",
       "      'snaks': {'P854': [{'snaktype': 'value',\n",
       "         'property': 'P854',\n",
       "         'hash': 'dfffcbb005d81337c91cd4be6f21db39504b6f20',\n",
       "         'datavalue': {'value': 'https://gepris.dfg.de/gepris/projekt/460037581',\n",
       "          'type': 'string'},\n",
       "         'datatype': 'url'}]},\n",
       "      'snaks-order': ['P854']}]},\n",
       "   {'mainsnak': {'snaktype': 'value',\n",
       "     'property': 'P1416',\n",
       "     'hash': 'dc64b9334d33c63fea0f6486d83273d957d47285',\n",
       "     'datavalue': {'value': {'entity-type': 'item',\n",
       "       'numeric-id': 317179,\n",
       "       'id': 'Q317179'},\n",
       "      'type': 'wikibase-entityid'},\n",
       "     'datatype': 'wikibase-item'},\n",
       "    'type': 'statement',\n",
       "    'qualifiers': {'P3831': [{'snaktype': 'value',\n",
       "       'property': 'P3831',\n",
       "       'hash': 'f469b322088d727d39e7a252bb0a3e6f878dd816',\n",
       "       'datavalue': {'value': {'entity-type': 'item',\n",
       "         'numeric-id': 105906738,\n",
       "         'id': 'Q105906738'},\n",
       "        'type': 'wikibase-entityid'},\n",
       "       'datatype': 'wikibase-item'}]},\n",
       "    'qualifiers-order': ['P3831'],\n",
       "    'id': 'Q108542181$2bdf2519-4637-61ee-744a-a0afd7b958d3',\n",
       "    'rank': 'normal',\n",
       "    'references': [{'hash': '17595c32cc607b720761cd3877e94e897f31ef52',\n",
       "      'snaks': {'P854': [{'snaktype': 'value',\n",
       "         'property': 'P854',\n",
       "         'hash': 'dfffcbb005d81337c91cd4be6f21db39504b6f20',\n",
       "         'datavalue': {'value': 'https://gepris.dfg.de/gepris/projekt/460037581',\n",
       "          'type': 'string'},\n",
       "         'datatype': 'url'}]},\n",
       "      'snaks-order': ['P854']}]}],\n",
       "  'P571': [{'mainsnak': {'snaktype': 'value',\n",
       "     'property': 'P571',\n",
       "     'hash': 'cb43c63b3c507b5c10658a2e70d85588ee238194',\n",
       "     'datavalue': {'value': {'time': '+2021-10-01T00:00:00Z',\n",
       "       'timezone': 0,\n",
       "       'before': 0,\n",
       "       'after': 0,\n",
       "       'precision': 11,\n",
       "       'calendarmodel': 'http://www.wikidata.org/entity/Q1985727'},\n",
       "      'type': 'time'},\n",
       "     'datatype': 'time'},\n",
       "    'type': 'statement',\n",
       "    'id': 'Q108542181$91a86a28-4404-3aa0-4245-a428f11d88c6',\n",
       "    'rank': 'normal'}],\n",
       "  'P2652': [{'mainsnak': {'snaktype': 'value',\n",
       "     'property': 'P2652',\n",
       "     'hash': 'c02cd9a0bfc265e8d2a14255ccd776dca5a94a18',\n",
       "     'datavalue': {'value': {'entity-type': 'item',\n",
       "       'numeric-id': 98380340,\n",
       "       'id': 'Q98380340'},\n",
       "      'type': 'wikibase-entityid'},\n",
       "     'datatype': 'wikibase-item'},\n",
       "    'type': 'statement',\n",
       "    'id': 'Q108542181$a86881f9-4cb2-6c1f-34d9-087674f110d0',\n",
       "    'rank': 'normal',\n",
       "    'references': [{'hash': '7a89990c02e76c09463a650eba9e07d98a736930',\n",
       "      'snaks': {'P854': [{'snaktype': 'value',\n",
       "         'property': 'P854',\n",
       "         'hash': '8e093b4a95a4991d8445dd0d984515f1770f1cd0',\n",
       "         'datavalue': {'value': 'https://www.dfg.de/download/pdf/foerderung/programme/nfdi/absichtserklaerungen_2020/2020_nfdi_berdatnfdi.pdf',\n",
       "          'type': 'string'},\n",
       "         'datatype': 'url'}]},\n",
       "      'snaks-order': ['P854']}]},\n",
       "   {'mainsnak': {'snaktype': 'value',\n",
       "     'property': 'P2652',\n",
       "     'hash': '89a38aec79358bb7963cfa2ee53b5d44dc06cbc8',\n",
       "     'datavalue': {'value': {'entity-type': 'item',\n",
       "       'numeric-id': 98231721,\n",
       "       'id': 'Q98231721'},\n",
       "      'type': 'wikibase-entityid'},\n",
       "     'datatype': 'wikibase-item'},\n",
       "    'type': 'statement',\n",
       "    'id': 'Q108542181$e3e69314-45de-e54f-a405-a0e5134d8787',\n",
       "    'rank': 'normal',\n",
       "    'references': [{'hash': '7a89990c02e76c09463a650eba9e07d98a736930',\n",
       "      'snaks': {'P854': [{'snaktype': 'value',\n",
       "         'property': 'P854',\n",
       "         'hash': '8e093b4a95a4991d8445dd0d984515f1770f1cd0',\n",
       "         'datavalue': {'value': 'https://www.dfg.de/download/pdf/foerderung/programme/nfdi/absichtserklaerungen_2020/2020_nfdi_berdatnfdi.pdf',\n",
       "          'type': 'string'},\n",
       "         'datatype': 'url'}]},\n",
       "      'snaks-order': ['P854']}]},\n",
       "   {'mainsnak': {'snaktype': 'value',\n",
       "     'property': 'P2652',\n",
       "     'hash': '744c31924b2b133f6183202dc5ef8b0850bea4e1',\n",
       "     'datavalue': {'value': {'entity-type': 'item',\n",
       "       'numeric-id': 108327788,\n",
       "       'id': 'Q108327788'},\n",
       "      'type': 'wikibase-entityid'},\n",
       "     'datatype': 'wikibase-item'},\n",
       "    'type': 'statement',\n",
       "    'id': 'Q108542181$af2f3898-4b90-3b30-eb4a-68ff7b3580f3',\n",
       "    'rank': 'normal',\n",
       "    'references': [{'hash': '7a89990c02e76c09463a650eba9e07d98a736930',\n",
       "      'snaks': {'P854': [{'snaktype': 'value',\n",
       "         'property': 'P854',\n",
       "         'hash': '8e093b4a95a4991d8445dd0d984515f1770f1cd0',\n",
       "         'datavalue': {'value': 'https://www.dfg.de/download/pdf/foerderung/programme/nfdi/absichtserklaerungen_2020/2020_nfdi_berdatnfdi.pdf',\n",
       "          'type': 'string'},\n",
       "         'datatype': 'url'}]},\n",
       "      'snaks-order': ['P854']}]},\n",
       "   {'mainsnak': {'snaktype': 'value',\n",
       "     'property': 'P2652',\n",
       "     'hash': 'd54b81012296ae551c7f9293323a2cd23a2ba323',\n",
       "     'datavalue': {'value': {'entity-type': 'item',\n",
       "       'numeric-id': 98271443,\n",
       "       'id': 'Q98271443'},\n",
       "      'type': 'wikibase-entityid'},\n",
       "     'datatype': 'wikibase-item'},\n",
       "    'type': 'statement',\n",
       "    'id': 'Q108542181$3f828d43-4453-5af4-dffa-9101aedf2aab',\n",
       "    'rank': 'normal',\n",
       "    'references': [{'hash': '7a89990c02e76c09463a650eba9e07d98a736930',\n",
       "      'snaks': {'P854': [{'snaktype': 'value',\n",
       "         'property': 'P854',\n",
       "         'hash': '8e093b4a95a4991d8445dd0d984515f1770f1cd0',\n",
       "         'datavalue': {'value': 'https://www.dfg.de/download/pdf/foerderung/programme/nfdi/absichtserklaerungen_2020/2020_nfdi_berdatnfdi.pdf',\n",
       "          'type': 'string'},\n",
       "         'datatype': 'url'}]},\n",
       "      'snaks-order': ['P854']}]}],\n",
       "  'P710': [{'mainsnak': {'snaktype': 'value',\n",
       "     'property': 'P710',\n",
       "     'hash': '695b6cc5d685486080a02935f737bec9296c39da',\n",
       "     'datavalue': {'value': {'entity-type': 'item',\n",
       "       'numeric-id': 684415,\n",
       "       'id': 'Q684415'},\n",
       "      'type': 'wikibase-entityid'},\n",
       "     'datatype': 'wikibase-item'},\n",
       "    'type': 'statement',\n",
       "    'id': 'Q108542181$7dd05db3-4a1c-d98b-ac56-61649b6271b8',\n",
       "    'rank': 'normal',\n",
       "    'references': [{'hash': '17595c32cc607b720761cd3877e94e897f31ef52',\n",
       "      'snaks': {'P854': [{'snaktype': 'value',\n",
       "         'property': 'P854',\n",
       "         'hash': 'dfffcbb005d81337c91cd4be6f21db39504b6f20',\n",
       "         'datavalue': {'value': 'https://gepris.dfg.de/gepris/projekt/460037581',\n",
       "          'type': 'string'},\n",
       "         'datatype': 'url'}]},\n",
       "      'snaks-order': ['P854']}]}],\n",
       "  'P968': [{'mainsnak': {'snaktype': 'value',\n",
       "     'property': 'P968',\n",
       "     'hash': '57347ff91c64a0df9b4ffd291070b81bf63612a7',\n",
       "     'datavalue': {'value': 'mailto:contact@berd-nfdi.de', 'type': 'string'},\n",
       "     'datatype': 'url'},\n",
       "    'type': 'statement',\n",
       "    'id': 'Q108542181$50ca7ea1-46fd-3ed4-d56d-291758e245a0',\n",
       "    'rank': 'normal',\n",
       "    'references': [{'hash': '7e6edbd2b437c7640d251ff4f90ab2fc61e0c91b',\n",
       "      'snaks': {'P854': [{'snaktype': 'value',\n",
       "         'property': 'P854',\n",
       "         'hash': 'd5036c4f5a86eb3f430cb56227ccb14b4d0f71be',\n",
       "         'datavalue': {'value': 'https://www.berd-nfdi.de/press/',\n",
       "          'type': 'string'},\n",
       "         'datatype': 'url'}]},\n",
       "      'snaks-order': ['P854']}]}],\n",
       "  'P488': [{'mainsnak': {'snaktype': 'value',\n",
       "     'property': 'P488',\n",
       "     'hash': '903866bf2432a8c7b5dcbe04ab2219d9a7989e5b',\n",
       "     'datavalue': {'value': {'entity-type': 'item',\n",
       "       'numeric-id': 108652977,\n",
       "       'id': 'Q108652977'},\n",
       "      'type': 'wikibase-entityid'},\n",
       "     'datatype': 'wikibase-item'},\n",
       "    'type': 'statement',\n",
       "    'qualifiers': {'P580': [{'snaktype': 'value',\n",
       "       'property': 'P580',\n",
       "       'hash': '0de5a48a4e23baed5d21d0a57d663caf8c09674e',\n",
       "       'datavalue': {'value': {'time': '+2021-10-01T00:00:00Z',\n",
       "         'timezone': 0,\n",
       "         'before': 0,\n",
       "         'after': 0,\n",
       "         'precision': 9,\n",
       "         'calendarmodel': 'http://www.wikidata.org/entity/Q1985727'},\n",
       "        'type': 'time'},\n",
       "       'datatype': 'time'}]},\n",
       "    'qualifiers-order': ['P580'],\n",
       "    'id': 'Q108542181$8C24B035-55A6-4398-83A9-894D23617568',\n",
       "    'rank': 'normal',\n",
       "    'references': [{'hash': '17595c32cc607b720761cd3877e94e897f31ef52',\n",
       "      'snaks': {'P854': [{'snaktype': 'value',\n",
       "         'property': 'P854',\n",
       "         'hash': 'dfffcbb005d81337c91cd4be6f21db39504b6f20',\n",
       "         'datavalue': {'value': 'https://gepris.dfg.de/gepris/projekt/460037581',\n",
       "          'type': 'string'},\n",
       "         'datatype': 'url'}]},\n",
       "      'snaks-order': ['P854']}]}]},\n",
       " 'sitelinks': {}}"
      ]
     },
     "execution_count": 17,
     "metadata": {},
     "output_type": "execute_result"
    }
   ],
   "source": [
    "json"
   ]
  }
 ],
 "metadata": {
  "kernelspec": {
   "display_name": "Python 3 (ipykernel)",
   "language": "python",
   "name": "python3"
  },
  "language_info": {
   "codemirror_mode": {
    "name": "ipython",
    "version": 3
   },
   "file_extension": ".py",
   "mimetype": "text/x-python",
   "name": "python",
   "nbconvert_exporter": "python",
   "pygments_lexer": "ipython3",
   "version": "3.9.7"
  }
 },
 "nbformat": 4,
 "nbformat_minor": 5
}
