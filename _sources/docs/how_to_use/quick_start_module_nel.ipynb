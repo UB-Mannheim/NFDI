{
 "cells": [
  {
   "cell_type": "markdown",
   "id": "4bfc5bc8",
   "metadata": {},
   "source": [
    "# Quick start: Module `nel`\n",
    "\n",
    "The module `nel` provides simple rule-based named entity linker for accepted NFDI consortia. Let's import the module and text for test:"
   ]
  },
  {
   "cell_type": "code",
   "execution_count": 1,
   "id": "ad1181b4",
   "metadata": {},
   "outputs": [
    {
     "name": "stdout",
     "output_type": "stream",
     "text": [
      "What are BERD@NFDI, NFDI4Earth, NFDI4DataScience, NFDI-MatWerk, PUNCH4NFDI, FAIRmat and Text+? How are they related to NFDI4Ing, NFDI4Culture, NFDI4Chem and NFDIGHGA?\n"
     ]
    }
   ],
   "source": [
    "from nfdi.nel import linker, test\n",
    "print(test)"
   ]
  },
  {
   "cell_type": "code",
   "execution_count": 2,
   "id": "6854954c-1380-4b11-8e0d-2c16cbb6c18c",
   "metadata": {},
   "outputs": [
    {
     "data": {
      "text/html": [
       "<span class=\"tex2jax_ignore\"><div class=\"entities\" style=\"line-height: 2.5; direction: ltr\">What are \n",
       "<mark class=\"entity\" style=\"background: #7aecec; padding: 0.45em 0.6em; margin: 0 0.25em; line-height: 1; border-radius: 0.35em;\">\n",
       "    BERD@NFDI\n",
       "    <span style=\"font-size: 0.8em; font-weight: bold; line-height: 1; border-radius: 0.35em; vertical-align: middle; margin-left: 0.5rem\">ORG\n",
       " <a style=\"text-decoration: none; color: inherit; font-weight: normal\" href=\"https://www.wikidata.org/entity/Q108542181\">Q108542181</a>\n",
       "</span>\n",
       "</mark>\n",
       ", \n",
       "<mark class=\"entity\" style=\"background: #7aecec; padding: 0.45em 0.6em; margin: 0 0.25em; line-height: 1; border-radius: 0.35em;\">\n",
       "    NFDI4Earth\n",
       "    <span style=\"font-size: 0.8em; font-weight: bold; line-height: 1; border-radius: 0.35em; vertical-align: middle; margin-left: 0.5rem\">ORG\n",
       " <a style=\"text-decoration: none; color: inherit; font-weight: normal\" href=\"https://www.wikidata.org/entity/Q108542504\">Q108542504</a>\n",
       "</span>\n",
       "</mark>\n",
       ", \n",
       "<mark class=\"entity\" style=\"background: #7aecec; padding: 0.45em 0.6em; margin: 0 0.25em; line-height: 1; border-radius: 0.35em;\">\n",
       "    NFDI4DataScience\n",
       "    <span style=\"font-size: 0.8em; font-weight: bold; line-height: 1; border-radius: 0.35em; vertical-align: middle; margin-left: 0.5rem\">ORG\n",
       " <a style=\"text-decoration: none; color: inherit; font-weight: normal\" href=\"https://www.wikidata.org/entity/Q108542422\">Q108542422</a>\n",
       "</span>\n",
       "</mark>\n",
       ", \n",
       "<mark class=\"entity\" style=\"background: #7aecec; padding: 0.45em 0.6em; margin: 0 0.25em; line-height: 1; border-radius: 0.35em;\">\n",
       "    NFDI-MatWerk\n",
       "    <span style=\"font-size: 0.8em; font-weight: bold; line-height: 1; border-radius: 0.35em; vertical-align: middle; margin-left: 0.5rem\">ORG\n",
       " <a style=\"text-decoration: none; color: inherit; font-weight: normal\" href=\"https://www.wikidata.org/entity/Q108542607\">Q108542607</a>\n",
       "</span>\n",
       "</mark>\n",
       ", \n",
       "<mark class=\"entity\" style=\"background: #7aecec; padding: 0.45em 0.6em; margin: 0 0.25em; line-height: 1; border-radius: 0.35em;\">\n",
       "    PUNCH4NFDI\n",
       "    <span style=\"font-size: 0.8em; font-weight: bold; line-height: 1; border-radius: 0.35em; vertical-align: middle; margin-left: 0.5rem\">ORG\n",
       " <a style=\"text-decoration: none; color: inherit; font-weight: normal\" href=\"https://www.wikidata.org/entity/Q108542637\">Q108542637</a>\n",
       "</span>\n",
       "</mark>\n",
       ", \n",
       "<mark class=\"entity\" style=\"background: #7aecec; padding: 0.45em 0.6em; margin: 0 0.25em; line-height: 1; border-radius: 0.35em;\">\n",
       "    FAIRmat\n",
       "    <span style=\"font-size: 0.8em; font-weight: bold; line-height: 1; border-radius: 0.35em; vertical-align: middle; margin-left: 0.5rem\">ORG\n",
       " <a style=\"text-decoration: none; color: inherit; font-weight: normal\" href=\"https://www.wikidata.org/entity/Q108542373\">Q108542373</a>\n",
       "</span>\n",
       "</mark>\n",
       " and \n",
       "<mark class=\"entity\" style=\"background: #7aecec; padding: 0.45em 0.6em; margin: 0 0.25em; line-height: 1; border-radius: 0.35em;\">\n",
       "    Text+\n",
       "    <span style=\"font-size: 0.8em; font-weight: bold; line-height: 1; border-radius: 0.35em; vertical-align: middle; margin-left: 0.5rem\">ORG\n",
       " <a style=\"text-decoration: none; color: inherit; font-weight: normal\" href=\"https://www.wikidata.org/entity/Q98271443\">Q98271443</a>\n",
       "</span>\n",
       "</mark>\n",
       "? How are they related to \n",
       "<mark class=\"entity\" style=\"background: #7aecec; padding: 0.45em 0.6em; margin: 0 0.25em; line-height: 1; border-radius: 0.35em;\">\n",
       "    NFDI4Ing\n",
       "    <span style=\"font-size: 0.8em; font-weight: bold; line-height: 1; border-radius: 0.35em; vertical-align: middle; margin-left: 0.5rem\">ORG\n",
       " <a style=\"text-decoration: none; color: inherit; font-weight: normal\" href=\"https://www.wikidata.org/entity/Q98380344\">Q98380344</a>\n",
       "</span>\n",
       "</mark>\n",
       ", \n",
       "<mark class=\"entity\" style=\"background: #7aecec; padding: 0.45em 0.6em; margin: 0 0.25em; line-height: 1; border-radius: 0.35em;\">\n",
       "    NFDI4Culture\n",
       "    <span style=\"font-size: 0.8em; font-weight: bold; line-height: 1; border-radius: 0.35em; vertical-align: middle; margin-left: 0.5rem\">ORG\n",
       " <a style=\"text-decoration: none; color: inherit; font-weight: normal\" href=\"https://www.wikidata.org/entity/Q98276929\">Q98276929</a>\n",
       "</span>\n",
       "</mark>\n",
       ", \n",
       "<mark class=\"entity\" style=\"background: #7aecec; padding: 0.45em 0.6em; margin: 0 0.25em; line-height: 1; border-radius: 0.35em;\">\n",
       "    NFDI4Chem\n",
       "    <span style=\"font-size: 0.8em; font-weight: bold; line-height: 1; border-radius: 0.35em; vertical-align: middle; margin-left: 0.5rem\">ORG\n",
       " <a style=\"text-decoration: none; color: inherit; font-weight: normal\" href=\"https://www.wikidata.org/entity/Q96678459\">Q96678459</a>\n",
       "</span>\n",
       "</mark>\n",
       " and \n",
       "<mark class=\"entity\" style=\"background: #7aecec; padding: 0.45em 0.6em; margin: 0 0.25em; line-height: 1; border-radius: 0.35em;\">\n",
       "    NFDIGHGA\n",
       "    <span style=\"font-size: 0.8em; font-weight: bold; line-height: 1; border-radius: 0.35em; vertical-align: middle; margin-left: 0.5rem\">ORG\n",
       " <a style=\"text-decoration: none; color: inherit; font-weight: normal\" href=\"https://www.wikidata.org/entity/Q98380337\">Q98380337</a>\n",
       "</span>\n",
       "</mark>\n",
       "?</div></span>"
      ],
      "text/plain": [
       "<IPython.core.display.HTML object>"
      ]
     },
     "metadata": {},
     "output_type": "display_data"
    }
   ],
   "source": [
    "t = linker(test)\n",
    "t.render()"
   ]
  },
  {
   "cell_type": "code",
   "execution_count": 3,
   "id": "dac27d32-35cb-4bed-92c4-88ee8d62dc7c",
   "metadata": {},
   "outputs": [
    {
     "name": "stdout",
     "output_type": "stream",
     "text": [
      "('BERD@NFDI', 'Q108542181', 'ORG')\n",
      "('NFDI4Earth', 'Q108542504', 'ORG')\n",
      "('NFDI4DataScience', 'Q108542422', 'ORG')\n",
      "('NFDI-MatWerk', 'Q108542607', 'ORG')\n",
      "('PUNCH4NFDI', 'Q108542637', 'ORG')\n",
      "('FAIRmat', 'Q108542373', 'ORG')\n",
      "('Text+', 'Q98271443', 'ORG')\n",
      "('NFDI4Ing', 'Q98380344', 'ORG')\n",
      "('NFDI4Culture', 'Q98276929', 'ORG')\n",
      "('NFDI4Chem', 'Q96678459', 'ORG')\n",
      "('NFDIGHGA', 'Q98380337', 'ORG')\n"
     ]
    }
   ],
   "source": [
    "for span in t.doc.ents:\n",
    "    print((span.text, span.ent_id_, span.label_))"
   ]
  }
 ],
 "metadata": {
  "kernelspec": {
   "display_name": "Python 3 (ipykernel)",
   "language": "python",
   "name": "python3"
  },
  "language_info": {
   "codemirror_mode": {
    "name": "ipython",
    "version": 3
   },
   "file_extension": ".py",
   "mimetype": "text/x-python",
   "name": "python",
   "nbconvert_exporter": "python",
   "pygments_lexer": "ipython3",
   "version": "3.9.7"
  }
 },
 "nbformat": 4,
 "nbformat_minor": 5
}
