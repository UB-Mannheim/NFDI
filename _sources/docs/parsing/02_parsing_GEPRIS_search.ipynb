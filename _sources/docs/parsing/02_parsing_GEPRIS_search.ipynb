{
 "cells": [
  {
   "cell_type": "markdown",
   "metadata": {},
   "source": [
    "# Parsing GEPRIS for the list of funded NFDI projects with GEPRIS IDs and descriptions\n",
    "Check out the the GEPRIS user interface for advanced search: https://gepris.dfg.de/gepris/OCTOPUS?task=doSearchExtended&context=projekt&keywords_criterion=NFDI&nurProjekteMitAB=false&findButton=Finden&person=&location=&fachlicheZuordnung=%23&pemu=32&peu=%23&zk_transferprojekt=false&teilprojekte=false&teilprojekte=true&bewilligungsStatus=&beginOfFunding=&gefoerdertIn=&oldContinentId=%23&continentId=%23&oldSubContinentId=%23%23&subContinentId=%23%23&oldCountryId=%23%23%23&countryKey=%23%23%23&einrichtungsart=-1"
   ]
  },
  {
   "cell_type": "markdown",
   "metadata": {},
   "source": [
    "## Getting HTML via requests\n",
    "We use [requests](https://docs.python-requests.org) library to get HTML of that page into `text` variable and print first 36 characters of it."
   ]
  },
  {
   "cell_type": "code",
   "execution_count": 1,
   "metadata": {},
   "outputs": [
    {
     "name": "stdout",
     "output_type": "stream",
     "text": [
      "<?xml version=\"1.0\" encoding=\"utf-8\"\n"
     ]
    }
   ],
   "source": [
    "import requests\n",
    "GEPRIS_URL = \"https://gepris.dfg.de/gepris/OCTOPUS\"\n",
    "params = {'keywords_criterion': '',\n",
    "          'nurProjekteMitAB': 'false',\n",
    "          'findButton': 'Finden',\n",
    "          'task': 'doSearchExtended',\n",
    "          'pemu': 32,\n",
    "          'context': 'projekt',\n",
    "          'language': 'en',\n",
    "          'hitsPerPage': 50,\n",
    "          'index': 0}\n",
    "r = requests.get(GEPRIS_URL, params=params)\n",
    "text = r.text\n",
    "print(text[0:36])"
   ]
  },
  {
   "cell_type": "markdown",
   "metadata": {},
   "source": [
    "## Parsing search results from HTML via BeautifulSoup\n",
    "We use the [BeautifulSoup](https://www.crummy.com/software/BeautifulSoup/bs4/doc/) library. The number of pages for search results is"
   ]
  },
  {
   "cell_type": "code",
   "execution_count": 2,
   "metadata": {},
   "outputs": [
    {
     "name": "stdout",
     "output_type": "stream",
     "text": [
      "1\n"
     ]
    }
   ],
   "source": [
    "from bs4 import BeautifulSoup\n",
    "try:\n",
    "    pages = int(soup.find('span', id=\"result-info\").find('strong').text.split()[0])\n",
    "except:\n",
    "    pages = 1\n",
    "print(pages)"
   ]
  },
  {
   "cell_type": "markdown",
   "metadata": {},
   "source": [
    "All search results are found via"
   ]
  },
  {
   "cell_type": "code",
   "execution_count": 3,
   "metadata": {},
   "outputs": [
    {
     "name": "stdout",
     "output_type": "stream",
     "text": [
      "[<div class=\"results\">\n",
      "<h2><a href=\"/gepris/projekt/441914366\">GHGA – German Human Genome-Phenome Archive</a></h2> <span id=\"icons\"><a href=\"/gepris/projekt/441914366?displayMode=print&amp;findButton=Finden&amp;hitsPerPage=50&amp;index=0&amp;keywords_criterion=&amp;language=en&amp;nurProjekteMitAB=false&amp;pemu=32\" rel=\"nofollow\" target=\"_blank\" title=\"Open print view\"><img alt=\"Print View\" src=\"/gepris/images/iconPrint.gif\"/></a></span></div>, <div class=\"results\">\n",
      "<h2><a href=\"/gepris/projekt/441926934\">NFDI4Cat – NFDI for Catalysis-Related Sciences</a></h2> <span id=\"icons\"><a href=\"/gepris/projekt/441926934?displayMode=print&amp;findButton=Finden&amp;hitsPerPage=50&amp;index=0&amp;keywords_criterion=&amp;language=en&amp;nurProjekteMitAB=false&amp;pemu=32\" rel=\"nofollow\" target=\"_blank\" title=\"Open print view\"><img alt=\"Print View\" src=\"/gepris/images/iconPrint.gif\"/></a></span></div>, <div class=\"results\">\n",
      "<h2><a href=\"/gepris/projekt/441958017\">NFDI4Culture – Consortium for research data on material and immaterial cultural heritage</a></h2> <span id=\"icons\"><a href=\"/gepris/projekt/441958017?displayMode=print&amp;findButton=Finden&amp;hitsPerPage=50&amp;index=0&amp;keywords_criterion=&amp;language=en&amp;nurProjekteMitAB=false&amp;pemu=32\" rel=\"nofollow\" target=\"_blank\" title=\"Open print view\"><img alt=\"Print View\" src=\"/gepris/images/iconPrint.gif\"/></a></span></div>, <div class=\"results\">\n",
      "<h2><a href=\"/gepris/projekt/441958208\">NFDI4Chem – Chemistry Consortium in the NFDI</a></h2> <span id=\"icons\"><a href=\"/gepris/projekt/441958208?displayMode=print&amp;findButton=Finden&amp;hitsPerPage=50&amp;index=0&amp;keywords_criterion=&amp;language=en&amp;nurProjekteMitAB=false&amp;pemu=32\" rel=\"nofollow\" target=\"_blank\" title=\"Open print view\"><img alt=\"Print View\" src=\"/gepris/images/iconPrint.gif\"/></a></span></div>, <div class=\"results\">\n",
      "<h2><a href=\"/gepris/projekt/442032008\">NFDI4BioDiversity – Biodiversity, Ecology &amp; Environmental Data</a></h2> <span id=\"icons\"><a href=\"/gepris/projekt/442032008?displayMode=print&amp;findButton=Finden&amp;hitsPerPage=50&amp;index=0&amp;keywords_criterion=&amp;language=en&amp;nurProjekteMitAB=false&amp;pemu=32\" rel=\"nofollow\" target=\"_blank\" title=\"Open print view\"><img alt=\"Print View\" src=\"/gepris/images/iconPrint.gif\"/></a></span></div>, <div class=\"results\">\n",
      "<h2><a href=\"/gepris/projekt/442077441\">DataPLANT – Data in PLANT research</a></h2> <span id=\"icons\"><a href=\"/gepris/projekt/442077441?displayMode=print&amp;findButton=Finden&amp;hitsPerPage=50&amp;index=0&amp;keywords_criterion=&amp;language=en&amp;nurProjekteMitAB=false&amp;pemu=32\" rel=\"nofollow\" target=\"_blank\" title=\"Open print view\"><img alt=\"Print View\" src=\"/gepris/images/iconPrint.gif\"/></a></span></div>, <div class=\"results\">\n",
      "<h2><a href=\"/gepris/projekt/442146713\">NFDI4Ing – National Research Data Infrastructure for Engineering Services</a></h2> <span id=\"icons\"><a href=\"/gepris/projekt/442146713?displayMode=print&amp;findButton=Finden&amp;hitsPerPage=50&amp;index=0&amp;keywords_criterion=&amp;language=en&amp;nurProjekteMitAB=false&amp;pemu=32\" rel=\"nofollow\" target=\"_blank\" title=\"Open print view\"><img alt=\"Print View\" src=\"/gepris/images/iconPrint.gif\"/></a></span></div>, <div class=\"results\">\n",
      "<h2><a href=\"/gepris/projekt/442326535\">NFDI4Health – National Research Data Infrastructure for Personal Health Data</a></h2> <span id=\"icons\"><a href=\"/gepris/projekt/442326535?displayMode=print&amp;findButton=Finden&amp;hitsPerPage=50&amp;index=0&amp;keywords_criterion=&amp;language=en&amp;nurProjekteMitAB=false&amp;pemu=32\" rel=\"nofollow\" target=\"_blank\" title=\"Open print view\"><img alt=\"Print View\" src=\"/gepris/images/iconPrint.gif\"/></a></span></div>, <div class=\"results\">\n",
      "<h2><a href=\"/gepris/projekt/442494171\">KonsortSWD – Consortium for the Social, Behavioural, Educational, and Economic Sciences</a></h2> <span id=\"icons\"><a href=\"/gepris/projekt/442494171?displayMode=print&amp;findButton=Finden&amp;hitsPerPage=50&amp;index=0&amp;keywords_criterion=&amp;language=en&amp;nurProjekteMitAB=false&amp;pemu=32\" rel=\"nofollow\" target=\"_blank\" title=\"Open print view\"><img alt=\"Print View\" src=\"/gepris/images/iconPrint.gif\"/></a></span></div>, <div class=\"results\">\n",
      "<h2><a href=\"/gepris/projekt/460033370\">Text+</a></h2> <span id=\"icons\"><a href=\"/gepris/projekt/460033370?displayMode=print&amp;findButton=Finden&amp;hitsPerPage=50&amp;index=0&amp;keywords_criterion=&amp;language=en&amp;nurProjekteMitAB=false&amp;pemu=32\" rel=\"nofollow\" target=\"_blank\" title=\"Open print view\"><img alt=\"Print View\" src=\"/gepris/images/iconPrint.gif\"/></a></span></div>, <div class=\"results\">\n",
      "<h2><a href=\"/gepris/projekt/460036893\">NFDI4Earth - NFDI Consortium Earth System Sciences</a></h2> <span id=\"icons\"><a href=\"/gepris/projekt/460036893?displayMode=print&amp;findButton=Finden&amp;hitsPerPage=50&amp;index=0&amp;keywords_criterion=&amp;language=en&amp;nurProjekteMitAB=false&amp;pemu=32\" rel=\"nofollow\" target=\"_blank\" title=\"Open print view\"><img alt=\"Print View\" src=\"/gepris/images/iconPrint.gif\"/></a></span></div>, <div class=\"results\">\n",
      "<h2><a href=\"/gepris/projekt/460037581\">BERD@NFDI - NFDI for Business, Economic and Related Data</a></h2> <span id=\"icons\"><a href=\"/gepris/projekt/460037581?displayMode=print&amp;findButton=Finden&amp;hitsPerPage=50&amp;index=0&amp;keywords_criterion=&amp;language=en&amp;nurProjekteMitAB=false&amp;pemu=32\" rel=\"nofollow\" target=\"_blank\" title=\"Open print view\"><img alt=\"Print View\" src=\"/gepris/images/iconPrint.gif\"/></a></span></div>, <div class=\"results\">\n",
      "<h2><a href=\"/gepris/projekt/460129525\">NFDI4Microbiota - National Research Data Infrastructure for Microbiota Research</a></h2> <span id=\"icons\"><a href=\"/gepris/projekt/460129525?displayMode=print&amp;findButton=Finden&amp;hitsPerPage=50&amp;index=0&amp;keywords_criterion=&amp;language=en&amp;nurProjekteMitAB=false&amp;pemu=32\" rel=\"nofollow\" target=\"_blank\" title=\"Open print view\"><img alt=\"Print View\" src=\"/gepris/images/iconPrint.gif\"/></a></span></div>, <div class=\"results\">\n",
      "<h2><a href=\"/gepris/projekt/460135501\">MaRDI - Mathematical Research Data Initiative</a></h2> <span id=\"icons\"><a href=\"/gepris/projekt/460135501?displayMode=print&amp;findButton=Finden&amp;hitsPerPage=50&amp;index=0&amp;keywords_criterion=&amp;language=en&amp;nurProjekteMitAB=false&amp;pemu=32\" rel=\"nofollow\" target=\"_blank\" title=\"Open print view\"><img alt=\"Print View\" src=\"/gepris/images/iconPrint.gif\"/></a></span></div>, <div class=\"results\">\n",
      "<h2><a href=\"/gepris/projekt/460197019\">FAIRmat – FAIR Data Infrastructure for Condensed-Matter Physics and the Chemical Physics of Solids</a></h2> <span id=\"icons\"><a href=\"/gepris/projekt/460197019?displayMode=print&amp;findButton=Finden&amp;hitsPerPage=50&amp;index=0&amp;keywords_criterion=&amp;language=en&amp;nurProjekteMitAB=false&amp;pemu=32\" rel=\"nofollow\" target=\"_blank\" title=\"Open print view\"><img alt=\"Print View\" src=\"/gepris/images/iconPrint.gif\"/></a></span></div>, <div class=\"results\">\n",
      "<h2><a href=\"/gepris/projekt/460234259\">NFDI4DS - NFDI for Data Science and Artificial Intelligence</a></h2> <span id=\"icons\"><a href=\"/gepris/projekt/460234259?displayMode=print&amp;findButton=Finden&amp;hitsPerPage=50&amp;index=0&amp;keywords_criterion=&amp;language=en&amp;nurProjekteMitAB=false&amp;pemu=32\" rel=\"nofollow\" target=\"_blank\" title=\"Open print view\"><img alt=\"Print View\" src=\"/gepris/images/iconPrint.gif\"/></a></span></div>, <div class=\"results\">\n",
      "<h2><a href=\"/gepris/projekt/460247524\">NFDI-MatWerk - National Research Data Infrastructure for Materials Science &amp; Engineering</a></h2> <span id=\"icons\"><a href=\"/gepris/projekt/460247524?displayMode=print&amp;findButton=Finden&amp;hitsPerPage=50&amp;index=0&amp;keywords_criterion=&amp;language=en&amp;nurProjekteMitAB=false&amp;pemu=32\" rel=\"nofollow\" target=\"_blank\" title=\"Open print view\"><img alt=\"Print View\" src=\"/gepris/images/iconPrint.gif\"/></a></span></div>, <div class=\"results\">\n",
      "<h2><a href=\"/gepris/projekt/460248186\">PUNCH4NFDI - Particles, Universe, NuClei and Hadrons for the NFDI</a></h2> <span id=\"icons\"><a href=\"/gepris/projekt/460248186?displayMode=print&amp;findButton=Finden&amp;hitsPerPage=50&amp;index=0&amp;keywords_criterion=&amp;language=en&amp;nurProjekteMitAB=false&amp;pemu=32\" rel=\"nofollow\" target=\"_blank\" title=\"Open print view\"><img alt=\"Print View\" src=\"/gepris/images/iconPrint.gif\"/></a></span></div>, <div class=\"results\">\n",
      "<h2><a href=\"/gepris/projekt/460248799\">DAPHNE4NFDI - DAta from PHoton and Neutron Experiments for NFDI</a></h2> <span id=\"icons\"><a href=\"/gepris/projekt/460248799?displayMode=print&amp;findButton=Finden&amp;hitsPerPage=50&amp;index=0&amp;keywords_criterion=&amp;language=en&amp;nurProjekteMitAB=false&amp;pemu=32\" rel=\"nofollow\" target=\"_blank\" title=\"Open print view\"><img alt=\"Print View\" src=\"/gepris/images/iconPrint.gif\"/></a></span></div>]\n"
     ]
    }
   ],
   "source": [
    "soup = BeautifulSoup(text, 'html.parser')\n",
    "results = soup.find_all(\"div\", class_=\"results\")\n",
    "print(results)"
   ]
  },
  {
   "cell_type": "markdown",
   "metadata": {},
   "source": [
    "Let's process a bit those results. "
   ]
  },
  {
   "cell_type": "code",
   "execution_count": 4,
   "metadata": {},
   "outputs": [
    {
     "name": "stdout",
     "output_type": "stream",
     "text": [
      "[['https://gepris.dfg.de/gepris/projekt/441914366', 'GHGA', 'German Human Genome-Phenome Archive'], ['https://gepris.dfg.de/gepris/projekt/441926934', 'NFDI4Cat', 'NFDI for Catalysis-Related Sciences'], ['https://gepris.dfg.de/gepris/projekt/441958017', 'NFDI4Culture', 'Consortium for research data on material and immaterial cultural heritage'], ['https://gepris.dfg.de/gepris/projekt/441958208', 'NFDI4Chem', 'Chemistry Consortium in the NFDI'], ['https://gepris.dfg.de/gepris/projekt/442032008', 'NFDI4BioDiversity', 'Biodiversity, Ecology & Environmental Data'], ['https://gepris.dfg.de/gepris/projekt/442077441', 'DataPLANT', 'Data in PLANT research'], ['https://gepris.dfg.de/gepris/projekt/442146713', 'NFDI4Ing', 'National Research Data Infrastructure for Engineering Services'], ['https://gepris.dfg.de/gepris/projekt/442326535', 'NFDI4Health', 'National Research Data Infrastructure for Personal Health Data'], ['https://gepris.dfg.de/gepris/projekt/442494171', 'KonsortSWD', 'Consortium for the Social, Behavioural, Educational, and Economic Sciences'], ['https://gepris.dfg.de/gepris/projekt/460033370', 'Text+', ''], ['https://gepris.dfg.de/gepris/projekt/460036893', 'NFDI4Earth', 'NFDI Consortium Earth System Sciences'], ['https://gepris.dfg.de/gepris/projekt/460037581', 'BERD@NFDI', 'NFDI for Business, Economic and Related Data'], ['https://gepris.dfg.de/gepris/projekt/460129525', 'NFDI4Microbiota', 'National Research Data Infrastructure for Microbiota Research'], ['https://gepris.dfg.de/gepris/projekt/460135501', 'MaRDI', 'Mathematical Research Data Initiative'], ['https://gepris.dfg.de/gepris/projekt/460197019', 'FAIRmat', 'FAIR Data Infrastructure for Condensed-Matter Physics and the Chemical Physics of Solids'], ['https://gepris.dfg.de/gepris/projekt/460234259', 'NFDI4DS', 'NFDI for Data Science and Artificial Intelligence'], ['https://gepris.dfg.de/gepris/projekt/460247524', 'NFDI-MatWerk', 'National Research Data Infrastructure for Materials Science & Engineering'], ['https://gepris.dfg.de/gepris/projekt/460248186', 'PUNCH4NFDI', 'Particles, Universe, NuClei and Hadrons for the NFDI'], ['https://gepris.dfg.de/gepris/projekt/460248799', 'DAPHNE4NFDI', 'DAta from PHoton and Neutron Experiments for NFDI']]\n"
     ]
    }
   ],
   "source": [
    "consortia = []\n",
    "for result in results:\n",
    "    a = result.find('a')\n",
    "    t = a.get_text().replace(' – ', ' - ')\n",
    "    try:\n",
    "        [title, description] = t.split(' - ')\n",
    "    except:\n",
    "        [title, description] = [t, '']\n",
    "    consortia.append([\"https://gepris.dfg.de\" + a.get('href'), title, description])\n",
    "print(consortia)"
   ]
  },
  {
   "cell_type": "markdown",
   "metadata": {},
   "source": [
    "Finally, we create a pandas-dataframe"
   ]
  },
  {
   "cell_type": "code",
   "execution_count": 5,
   "metadata": {},
   "outputs": [
    {
     "data": {
      "text/html": [
       "<div>\n",
       "<style scoped>\n",
       "    .dataframe tbody tr th:only-of-type {\n",
       "        vertical-align: middle;\n",
       "    }\n",
       "\n",
       "    .dataframe tbody tr th {\n",
       "        vertical-align: top;\n",
       "    }\n",
       "\n",
       "    .dataframe thead th {\n",
       "        text-align: right;\n",
       "    }\n",
       "</style>\n",
       "<table border=\"1\" class=\"dataframe\">\n",
       "  <thead>\n",
       "    <tr style=\"text-align: right;\">\n",
       "      <th></th>\n",
       "      <th>GEPRIS</th>\n",
       "      <th>Title</th>\n",
       "      <th>Description</th>\n",
       "    </tr>\n",
       "  </thead>\n",
       "  <tbody>\n",
       "    <tr>\n",
       "      <th>0</th>\n",
       "      <td>https://gepris.dfg.de/gepris/projekt/441914366</td>\n",
       "      <td>GHGA</td>\n",
       "      <td>German Human Genome-Phenome Archive</td>\n",
       "    </tr>\n",
       "    <tr>\n",
       "      <th>1</th>\n",
       "      <td>https://gepris.dfg.de/gepris/projekt/441926934</td>\n",
       "      <td>NFDI4Cat</td>\n",
       "      <td>NFDI for Catalysis-Related Sciences</td>\n",
       "    </tr>\n",
       "    <tr>\n",
       "      <th>2</th>\n",
       "      <td>https://gepris.dfg.de/gepris/projekt/441958017</td>\n",
       "      <td>NFDI4Culture</td>\n",
       "      <td>Consortium for research data on material and i...</td>\n",
       "    </tr>\n",
       "    <tr>\n",
       "      <th>3</th>\n",
       "      <td>https://gepris.dfg.de/gepris/projekt/441958208</td>\n",
       "      <td>NFDI4Chem</td>\n",
       "      <td>Chemistry Consortium in the NFDI</td>\n",
       "    </tr>\n",
       "    <tr>\n",
       "      <th>4</th>\n",
       "      <td>https://gepris.dfg.de/gepris/projekt/442032008</td>\n",
       "      <td>NFDI4BioDiversity</td>\n",
       "      <td>Biodiversity, Ecology &amp; Environmental Data</td>\n",
       "    </tr>\n",
       "    <tr>\n",
       "      <th>5</th>\n",
       "      <td>https://gepris.dfg.de/gepris/projekt/442077441</td>\n",
       "      <td>DataPLANT</td>\n",
       "      <td>Data in PLANT research</td>\n",
       "    </tr>\n",
       "    <tr>\n",
       "      <th>6</th>\n",
       "      <td>https://gepris.dfg.de/gepris/projekt/442146713</td>\n",
       "      <td>NFDI4Ing</td>\n",
       "      <td>National Research Data Infrastructure for Engi...</td>\n",
       "    </tr>\n",
       "    <tr>\n",
       "      <th>7</th>\n",
       "      <td>https://gepris.dfg.de/gepris/projekt/442326535</td>\n",
       "      <td>NFDI4Health</td>\n",
       "      <td>National Research Data Infrastructure for Pers...</td>\n",
       "    </tr>\n",
       "    <tr>\n",
       "      <th>8</th>\n",
       "      <td>https://gepris.dfg.de/gepris/projekt/442494171</td>\n",
       "      <td>KonsortSWD</td>\n",
       "      <td>Consortium for the Social, Behavioural, Educat...</td>\n",
       "    </tr>\n",
       "    <tr>\n",
       "      <th>9</th>\n",
       "      <td>https://gepris.dfg.de/gepris/projekt/460033370</td>\n",
       "      <td>Text+</td>\n",
       "      <td></td>\n",
       "    </tr>\n",
       "    <tr>\n",
       "      <th>10</th>\n",
       "      <td>https://gepris.dfg.de/gepris/projekt/460036893</td>\n",
       "      <td>NFDI4Earth</td>\n",
       "      <td>NFDI Consortium Earth System Sciences</td>\n",
       "    </tr>\n",
       "    <tr>\n",
       "      <th>11</th>\n",
       "      <td>https://gepris.dfg.de/gepris/projekt/460037581</td>\n",
       "      <td>BERD@NFDI</td>\n",
       "      <td>NFDI for Business, Economic and Related Data</td>\n",
       "    </tr>\n",
       "    <tr>\n",
       "      <th>12</th>\n",
       "      <td>https://gepris.dfg.de/gepris/projekt/460129525</td>\n",
       "      <td>NFDI4Microbiota</td>\n",
       "      <td>National Research Data Infrastructure for Micr...</td>\n",
       "    </tr>\n",
       "    <tr>\n",
       "      <th>13</th>\n",
       "      <td>https://gepris.dfg.de/gepris/projekt/460135501</td>\n",
       "      <td>MaRDI</td>\n",
       "      <td>Mathematical Research Data Initiative</td>\n",
       "    </tr>\n",
       "    <tr>\n",
       "      <th>14</th>\n",
       "      <td>https://gepris.dfg.de/gepris/projekt/460197019</td>\n",
       "      <td>FAIRmat</td>\n",
       "      <td>FAIR Data Infrastructure for Condensed-Matter ...</td>\n",
       "    </tr>\n",
       "    <tr>\n",
       "      <th>15</th>\n",
       "      <td>https://gepris.dfg.de/gepris/projekt/460234259</td>\n",
       "      <td>NFDI4DS</td>\n",
       "      <td>NFDI for Data Science and Artificial Intelligence</td>\n",
       "    </tr>\n",
       "    <tr>\n",
       "      <th>16</th>\n",
       "      <td>https://gepris.dfg.de/gepris/projekt/460247524</td>\n",
       "      <td>NFDI-MatWerk</td>\n",
       "      <td>National Research Data Infrastructure for Mate...</td>\n",
       "    </tr>\n",
       "    <tr>\n",
       "      <th>17</th>\n",
       "      <td>https://gepris.dfg.de/gepris/projekt/460248186</td>\n",
       "      <td>PUNCH4NFDI</td>\n",
       "      <td>Particles, Universe, NuClei and Hadrons for th...</td>\n",
       "    </tr>\n",
       "    <tr>\n",
       "      <th>18</th>\n",
       "      <td>https://gepris.dfg.de/gepris/projekt/460248799</td>\n",
       "      <td>DAPHNE4NFDI</td>\n",
       "      <td>DAta from PHoton and Neutron Experiments for NFDI</td>\n",
       "    </tr>\n",
       "  </tbody>\n",
       "</table>\n",
       "</div>"
      ],
      "text/plain": [
       "                                            GEPRIS              Title  \\\n",
       "0   https://gepris.dfg.de/gepris/projekt/441914366               GHGA   \n",
       "1   https://gepris.dfg.de/gepris/projekt/441926934           NFDI4Cat   \n",
       "2   https://gepris.dfg.de/gepris/projekt/441958017       NFDI4Culture   \n",
       "3   https://gepris.dfg.de/gepris/projekt/441958208          NFDI4Chem   \n",
       "4   https://gepris.dfg.de/gepris/projekt/442032008  NFDI4BioDiversity   \n",
       "5   https://gepris.dfg.de/gepris/projekt/442077441          DataPLANT   \n",
       "6   https://gepris.dfg.de/gepris/projekt/442146713           NFDI4Ing   \n",
       "7   https://gepris.dfg.de/gepris/projekt/442326535        NFDI4Health   \n",
       "8   https://gepris.dfg.de/gepris/projekt/442494171         KonsortSWD   \n",
       "9   https://gepris.dfg.de/gepris/projekt/460033370              Text+   \n",
       "10  https://gepris.dfg.de/gepris/projekt/460036893         NFDI4Earth   \n",
       "11  https://gepris.dfg.de/gepris/projekt/460037581          BERD@NFDI   \n",
       "12  https://gepris.dfg.de/gepris/projekt/460129525    NFDI4Microbiota   \n",
       "13  https://gepris.dfg.de/gepris/projekt/460135501              MaRDI   \n",
       "14  https://gepris.dfg.de/gepris/projekt/460197019            FAIRmat   \n",
       "15  https://gepris.dfg.de/gepris/projekt/460234259            NFDI4DS   \n",
       "16  https://gepris.dfg.de/gepris/projekt/460247524       NFDI-MatWerk   \n",
       "17  https://gepris.dfg.de/gepris/projekt/460248186         PUNCH4NFDI   \n",
       "18  https://gepris.dfg.de/gepris/projekt/460248799        DAPHNE4NFDI   \n",
       "\n",
       "                                          Description  \n",
       "0                 German Human Genome-Phenome Archive  \n",
       "1                 NFDI for Catalysis-Related Sciences  \n",
       "2   Consortium for research data on material and i...  \n",
       "3                    Chemistry Consortium in the NFDI  \n",
       "4          Biodiversity, Ecology & Environmental Data  \n",
       "5                              Data in PLANT research  \n",
       "6   National Research Data Infrastructure for Engi...  \n",
       "7   National Research Data Infrastructure for Pers...  \n",
       "8   Consortium for the Social, Behavioural, Educat...  \n",
       "9                                                      \n",
       "10              NFDI Consortium Earth System Sciences  \n",
       "11       NFDI for Business, Economic and Related Data  \n",
       "12  National Research Data Infrastructure for Micr...  \n",
       "13              Mathematical Research Data Initiative  \n",
       "14  FAIR Data Infrastructure for Condensed-Matter ...  \n",
       "15  NFDI for Data Science and Artificial Intelligence  \n",
       "16  National Research Data Infrastructure for Mate...  \n",
       "17  Particles, Universe, NuClei and Hadrons for th...  \n",
       "18  DAta from PHoton and Neutron Experiments for NFDI  "
      ]
     },
     "execution_count": 5,
     "metadata": {},
     "output_type": "execute_result"
    }
   ],
   "source": [
    "import pandas as pd\n",
    "nfdi = pd.DataFrame(consortia, columns=['GEPRIS', 'Title', 'Description'])\n",
    "nfdi"
   ]
  },
  {
   "cell_type": "markdown",
   "metadata": {},
   "source": [
    "Let's save the dataframe to CSV-file."
   ]
  },
  {
   "cell_type": "code",
   "execution_count": 6,
   "metadata": {},
   "outputs": [],
   "source": [
    "nfdi.to_csv(\"../../../data/GEPRIS_NFDI_all.csv\", index=False, encoding='utf-8')"
   ]
  }
 ],
 "metadata": {
  "kernelspec": {
   "display_name": "Python 3",
   "language": "python",
   "name": "python3"
  },
  "language_info": {
   "codemirror_mode": {
    "name": "ipython",
    "version": 3
   },
   "file_extension": ".py",
   "mimetype": "text/x-python",
   "name": "python",
   "nbconvert_exporter": "python",
   "pygments_lexer": "ipython3",
   "version": "3.7.6"
  }
 },
 "nbformat": 4,
 "nbformat_minor": 4
}
