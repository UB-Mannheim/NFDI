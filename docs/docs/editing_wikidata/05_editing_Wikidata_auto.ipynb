{
 "cells": [
  {
   "cell_type": "markdown",
   "metadata": {},
   "source": [
    "# Editing Wikidata using Python\n",
    "Small changes can be made to Wikidata using a normal account. Here let's add a few labels and aliases to [Q108542181](https://www.wikidata.org/entity/Q108542181)."
   ]
  },
  {
   "cell_type": "code",
   "execution_count": 1,
   "metadata": {},
   "outputs": [
    {
     "name": "stdout",
     "output_type": "stream",
     "text": [
      "'Q108542181'\n"
     ]
    }
   ],
   "source": [
    "from wikidata import wduser, wdpass\n",
    "from wikidataintegrator import wdi_core, wdi_login\n",
    "login = wdi_login.WDLogin(wduser, wdpass)\n",
    "item = wdi_core.WDItemEngine(wd_item_id='Q108542181')\n",
    "languages = [\"de-ch\", \"de-formal\", \"en-ca\", \"en-gb\", \"es\", \"nl\", \"pt\", \"simple\"]\n",
    "for language in languages:\n",
    "    item.set_label(label='BERD@NFDI', lang=language)\n",
    "    item.set_aliases(aliases=['BERD-NFDI'], lang=language)\n",
    "item.write(login, bot_account=False)"
   ]
  }
 ],
 "metadata": {
  "kernelspec": {
   "display_name": "Python 3",
   "language": "python",
   "name": "python3"
  },
  "language_info": {
   "codemirror_mode": {
    "name": "ipython",
    "version": 3
   },
   "file_extension": ".py",
   "mimetype": "text/x-python",
   "name": "python",
   "nbconvert_exporter": "python",
   "pygments_lexer": "ipython3",
   "version": "3.7.6"
  }
 },
 "nbformat": 4,
 "nbformat_minor": 4
}
