{
 "cells": [
  {
   "cell_type": "markdown",
   "metadata": {},
   "source": [
    "# Parsing DFG for the list of funded NFDI consortia with homepages and descriptions\n",
    "\n",
    "We google \"accepted NFDI consortia\" and find the page with accepted consortia: https://www.dfg.de/en/research_funding/programmes/nfdi/funded_consortia/index.html."
   ]
  },
  {
   "cell_type": "markdown",
   "metadata": {},
   "source": [
    "## Getting HTML via requests\n",
    "We use [requests](https://docs.python-requests.org) library to get HTML of that page into `text` variable and print first 33 characters of it."
   ]
  },
  {
   "cell_type": "code",
   "execution_count": 1,
   "metadata": {},
   "outputs": [
    {
     "name": "stdout",
     "output_type": "stream",
     "text": [
      "<!DOCTYPE html>\n",
      "<html lang=\"en\">\n"
     ]
    }
   ],
   "source": [
    "import requests\n",
    "NFDI_URL = \"https://www.dfg.de/en/research_funding/programmes/nfdi/funded_consortia/index.html\"\n",
    "r = requests.get(NFDI_URL)\n",
    "text = r.text\n",
    "print(text[0:33])"
   ]
  },
  {
   "cell_type": "markdown",
   "metadata": {},
   "source": [
    "## Parsing all tables from HTML via pandas\n",
    "Indeed `text` variable contains HTML. We can parse all tables from it using the [pandas](https://pandas.pydata.org/) library."
   ]
  },
  {
   "cell_type": "code",
   "execution_count": 2,
   "metadata": {},
   "outputs": [
    {
     "name": "stdout",
     "output_type": "stream",
     "text": [
      "                                               Titel                                             Link\n",
      "0  DataPLANT - Data in Plant research (Biology)Ex...              Externer Linkhttp://nfdi4plants.de/\n",
      "1  GHGA - German Human Genome Archive (Medicine)E...               Externer Linkhttps://ghga.dkfz.de/\n",
      "2  KonsortSWD - Consortium for the Social, Behavi...          Externer Linkhttps://www.konsortswd.de/\n",
      "3  NFDI4BioDiversität - Biodiversity, Ecology & E...  Externer Linkhttps://www.nfdi4biodiversity.org/\n",
      "4  NFDI4Cat - NFDI for Catalysis-Related Sciences...     Externer Linkhttp://gecats.org/NFDI4Cat.html\n",
      "5  NFDI4Chem - Chemistry Consortium in the NFDI (...           Externer Linkhttps://www.nfdi4chem.de/\n",
      "6  NFDI4Culture - Consortium for research data on...            Externer Linkhttps://nfdi4culture.de/\n",
      "7  NFDI4Health - National Research Data Infrastru...         Externer Linkhttps://www.nfdi4health.de/\n",
      "8  NFDI4Ing - National Research Data Infrastructu...                Externer Linkhttps://nfdi4ing.de/\n",
      "                                               Titel                                               Link\n",
      "0  BERD@NFDI - NFDI for Business, Economic and Re...             Externer Linkhttps://www.berd-nfdi.de/\n",
      "1  DAPHNE4NFDI - DAta from PHoton and Neutron Exp...  Externer Linkhttps://www.sni-portal.de/de/daph...\n",
      "2  FAIRmat - FAIR Data Infrastructure for Condens...  Externer Linkhttps://www.fair-di.eu/fairmat/fa...\n",
      "3  MaRDI - Mathematical Research Data Initiative ...            Externer Linkhttps://www.mardi4nfdi.de/\n",
      "4  NFDI4DataScience - NFDI for Data Science and A...                                     No website yet\n",
      "5  NFDI4Earth - NFDI Consortium Earth System Scie...            Externer Linkhttps://www.nfdi4earth.de/\n",
      "6  NFDI4Microbiota - National Research Data Infra...           Externer Linkhttps://nfdi4microbiota.de/\n",
      "7  NFDI-MatWerk - National Research Data Infrastr...              Externer Linkhttps://nfdi-matwerk.de/\n",
      "8  PUNCH4NFDI - Particles, Universe, NuClei and H...            Externer Linkhttps://www.punch4nfdi.de/\n",
      "9  Text+ - Language and Text Based Research Data ...            Externer Linkhttps://www.text-plus.org/\n"
     ]
    }
   ],
   "source": [
    "import pandas as pd\n",
    "pd.set_option('display.width', 1000)\n",
    "df_list = pd.read_html(text.encode('latin1').decode('utf8'))\n",
    "for df in df_list:\n",
    "    print(df)"
   ]
  },
  {
   "cell_type": "markdown",
   "metadata": {},
   "source": [
    "The column `Titel` (aka 'title') contains both titles and descriptions. The column `Link` contains the string \"Externer Link\" and the links to homepages of NFDI consortia."
   ]
  },
  {
   "cell_type": "markdown",
   "metadata": {},
   "source": [
    "## Processing tables\n",
    "Let's process and clean those tables. We also replace \"No website yet\" with empty string and \"NFDI4BioDiversität\" with \"NFDI4BioDiversity\"."
   ]
  },
  {
   "cell_type": "code",
   "execution_count": 3,
   "metadata": {},
   "outputs": [],
   "source": [
    "for df in df_list:\n",
    "    df['Description'] = df['Titel'].apply(lambda x: x.split(' - ')[-1].replace('Externer Link- Project in GEPRIS', ''))\n",
    "    df['Titel'] = df['Titel'] .apply(lambda x: x.split(' - ')[0].replace('NFDI4BioDiversität', 'NFDI4BioDiversity'))\n",
    "    df['Link'] = df['Link'].apply(lambda x: x.replace('Externer Link', '').replace('No website yet',''))\n",
    "    df"
   ]
  },
  {
   "cell_type": "markdown",
   "metadata": {},
   "source": [
    "The NFDI consortia funded in 2020:"
   ]
  },
  {
   "cell_type": "code",
   "execution_count": 4,
   "metadata": {},
   "outputs": [
    {
     "data": {
      "text/html": [
       "<div>\n",
       "<style scoped>\n",
       "    .dataframe tbody tr th:only-of-type {\n",
       "        vertical-align: middle;\n",
       "    }\n",
       "\n",
       "    .dataframe tbody tr th {\n",
       "        vertical-align: top;\n",
       "    }\n",
       "\n",
       "    .dataframe thead th {\n",
       "        text-align: right;\n",
       "    }\n",
       "</style>\n",
       "<table border=\"1\" class=\"dataframe\">\n",
       "  <thead>\n",
       "    <tr style=\"text-align: right;\">\n",
       "      <th></th>\n",
       "      <th>Titel</th>\n",
       "      <th>Link</th>\n",
       "      <th>Description</th>\n",
       "    </tr>\n",
       "  </thead>\n",
       "  <tbody>\n",
       "    <tr>\n",
       "      <th>0</th>\n",
       "      <td>DataPLANT</td>\n",
       "      <td>http://nfdi4plants.de/</td>\n",
       "      <td>Data in Plant research (Biology)</td>\n",
       "    </tr>\n",
       "    <tr>\n",
       "      <th>1</th>\n",
       "      <td>GHGA</td>\n",
       "      <td>https://ghga.dkfz.de/</td>\n",
       "      <td>German Human Genome Archive (Medicine)</td>\n",
       "    </tr>\n",
       "    <tr>\n",
       "      <th>2</th>\n",
       "      <td>KonsortSWD</td>\n",
       "      <td>https://www.konsortswd.de/</td>\n",
       "      <td>Consortium for the Social, Behavioural, Educat...</td>\n",
       "    </tr>\n",
       "    <tr>\n",
       "      <th>3</th>\n",
       "      <td>NFDI4BioDiversity</td>\n",
       "      <td>https://www.nfdi4biodiversity.org/</td>\n",
       "      <td>Biodiversity, Ecology &amp; Envi-ronmental Data (B...</td>\n",
       "    </tr>\n",
       "    <tr>\n",
       "      <th>4</th>\n",
       "      <td>NFDI4Cat</td>\n",
       "      <td>http://gecats.org/NFDI4Cat.html</td>\n",
       "      <td>NFDI for Catalysis-Related Sciences (Chemistry)</td>\n",
       "    </tr>\n",
       "    <tr>\n",
       "      <th>5</th>\n",
       "      <td>NFDI4Chem</td>\n",
       "      <td>https://www.nfdi4chem.de/</td>\n",
       "      <td>Chemistry Consortium in the NFDI (Chemistry)</td>\n",
       "    </tr>\n",
       "    <tr>\n",
       "      <th>6</th>\n",
       "      <td>NFDI4Culture</td>\n",
       "      <td>https://nfdi4culture.de/</td>\n",
       "      <td>Consortium for research data on ma-terial and ...</td>\n",
       "    </tr>\n",
       "    <tr>\n",
       "      <th>7</th>\n",
       "      <td>NFDI4Health</td>\n",
       "      <td>https://www.nfdi4health.de/</td>\n",
       "      <td>National Research Data Infrastructure for Pers...</td>\n",
       "    </tr>\n",
       "    <tr>\n",
       "      <th>8</th>\n",
       "      <td>NFDI4Ing</td>\n",
       "      <td>https://nfdi4ing.de/</td>\n",
       "      <td>National Research Data Infrastructure for Engi...</td>\n",
       "    </tr>\n",
       "  </tbody>\n",
       "</table>\n",
       "</div>"
      ],
      "text/plain": [
       "               Titel                                Link                                        Description\n",
       "0          DataPLANT              http://nfdi4plants.de/                   Data in Plant research (Biology)\n",
       "1               GHGA               https://ghga.dkfz.de/             German Human Genome Archive (Medicine)\n",
       "2         KonsortSWD          https://www.konsortswd.de/  Consortium for the Social, Behavioural, Educat...\n",
       "3  NFDI4BioDiversity  https://www.nfdi4biodiversity.org/  Biodiversity, Ecology & Envi-ronmental Data (B...\n",
       "4           NFDI4Cat     http://gecats.org/NFDI4Cat.html    NFDI for Catalysis-Related Sciences (Chemistry)\n",
       "5          NFDI4Chem           https://www.nfdi4chem.de/       Chemistry Consortium in the NFDI (Chemistry)\n",
       "6       NFDI4Culture            https://nfdi4culture.de/  Consortium for research data on ma-terial and ...\n",
       "7        NFDI4Health         https://www.nfdi4health.de/  National Research Data Infrastructure for Pers...\n",
       "8           NFDI4Ing                https://nfdi4ing.de/  National Research Data Infrastructure for Engi..."
      ]
     },
     "execution_count": 4,
     "metadata": {},
     "output_type": "execute_result"
    }
   ],
   "source": [
    "df_list[0]"
   ]
  },
  {
   "cell_type": "markdown",
   "metadata": {},
   "source": [
    "The NFDI consortia funded in 2021:"
   ]
  },
  {
   "cell_type": "code",
   "execution_count": 5,
   "metadata": {},
   "outputs": [
    {
     "data": {
      "text/html": [
       "<div>\n",
       "<style scoped>\n",
       "    .dataframe tbody tr th:only-of-type {\n",
       "        vertical-align: middle;\n",
       "    }\n",
       "\n",
       "    .dataframe tbody tr th {\n",
       "        vertical-align: top;\n",
       "    }\n",
       "\n",
       "    .dataframe thead th {\n",
       "        text-align: right;\n",
       "    }\n",
       "</style>\n",
       "<table border=\"1\" class=\"dataframe\">\n",
       "  <thead>\n",
       "    <tr style=\"text-align: right;\">\n",
       "      <th></th>\n",
       "      <th>Titel</th>\n",
       "      <th>Link</th>\n",
       "      <th>Description</th>\n",
       "    </tr>\n",
       "  </thead>\n",
       "  <tbody>\n",
       "    <tr>\n",
       "      <th>0</th>\n",
       "      <td>BERD@NFDI</td>\n",
       "      <td>https://www.berd-nfdi.de/</td>\n",
       "      <td>NFDI for Business, Economic and Related Data (...</td>\n",
       "    </tr>\n",
       "    <tr>\n",
       "      <th>1</th>\n",
       "      <td>DAPHNE4NFDI</td>\n",
       "      <td>https://www.sni-portal.de/de/daphne-nfdi/daphn...</td>\n",
       "      <td>DAta from PHoton and Neutron Experiments for N...</td>\n",
       "    </tr>\n",
       "    <tr>\n",
       "      <th>2</th>\n",
       "      <td>FAIRmat</td>\n",
       "      <td>https://www.fair-di.eu/fairmat/fairmat_/consor...</td>\n",
       "      <td>FAIR Data Infrastructure for Condensed-Matter ...</td>\n",
       "    </tr>\n",
       "    <tr>\n",
       "      <th>3</th>\n",
       "      <td>MaRDI</td>\n",
       "      <td>https://www.mardi4nfdi.de/</td>\n",
       "      <td>Mathematical Research Data Initiative (Mathema...</td>\n",
       "    </tr>\n",
       "    <tr>\n",
       "      <th>4</th>\n",
       "      <td>NFDI4DataScience</td>\n",
       "      <td></td>\n",
       "      <td>NFDI for Data Science and Artificial Intellige...</td>\n",
       "    </tr>\n",
       "    <tr>\n",
       "      <th>5</th>\n",
       "      <td>NFDI4Earth</td>\n",
       "      <td>https://www.nfdi4earth.de/</td>\n",
       "      <td>NFDI Consortium Earth System Sciences (Geoscie...</td>\n",
       "    </tr>\n",
       "    <tr>\n",
       "      <th>6</th>\n",
       "      <td>NFDI4Microbiota</td>\n",
       "      <td>https://nfdi4microbiota.de/</td>\n",
       "      <td>National Research Data Infrastructure for Micr...</td>\n",
       "    </tr>\n",
       "    <tr>\n",
       "      <th>7</th>\n",
       "      <td>NFDI-MatWerk</td>\n",
       "      <td>https://nfdi-matwerk.de/</td>\n",
       "      <td>National Research Data Infrastructure for Mate...</td>\n",
       "    </tr>\n",
       "    <tr>\n",
       "      <th>8</th>\n",
       "      <td>PUNCH4NFDI</td>\n",
       "      <td>https://www.punch4nfdi.de/</td>\n",
       "      <td>Particles, Universe, NuClei and Hadrons for th...</td>\n",
       "    </tr>\n",
       "    <tr>\n",
       "      <th>9</th>\n",
       "      <td>Text+</td>\n",
       "      <td>https://www.text-plus.org/</td>\n",
       "      <td>Language and Text Based Research Data Infrastr...</td>\n",
       "    </tr>\n",
       "  </tbody>\n",
       "</table>\n",
       "</div>"
      ],
      "text/plain": [
       "              Titel                                               Link                                        Description\n",
       "0         BERD@NFDI                          https://www.berd-nfdi.de/  NFDI for Business, Economic and Related Data (...\n",
       "1       DAPHNE4NFDI  https://www.sni-portal.de/de/daphne-nfdi/daphn...  DAta from PHoton and Neutron Experiments for N...\n",
       "2           FAIRmat  https://www.fair-di.eu/fairmat/fairmat_/consor...  FAIR Data Infrastructure for Condensed-Matter ...\n",
       "3             MaRDI                         https://www.mardi4nfdi.de/  Mathematical Research Data Initiative (Mathema...\n",
       "4  NFDI4DataScience                                                     NFDI for Data Science and Artificial Intellige...\n",
       "5        NFDI4Earth                         https://www.nfdi4earth.de/  NFDI Consortium Earth System Sciences (Geoscie...\n",
       "6   NFDI4Microbiota                        https://nfdi4microbiota.de/  National Research Data Infrastructure for Micr...\n",
       "7      NFDI-MatWerk                           https://nfdi-matwerk.de/  National Research Data Infrastructure for Mate...\n",
       "8        PUNCH4NFDI                         https://www.punch4nfdi.de/  Particles, Universe, NuClei and Hadrons for th...\n",
       "9             Text+                         https://www.text-plus.org/  Language and Text Based Research Data Infrastr..."
      ]
     },
     "execution_count": 5,
     "metadata": {},
     "output_type": "execute_result"
    }
   ],
   "source": [
    "df_list[1]"
   ]
  },
  {
   "cell_type": "markdown",
   "metadata": {},
   "source": [
    "Let's save the dataframes into CSV-files."
   ]
  },
  {
   "cell_type": "code",
   "execution_count": 6,
   "metadata": {},
   "outputs": [],
   "source": [
    "df_list[0].to_csv(\"../../../data/DFG_NFDI_2020.csv\", index=False, encoding='utf-8')\n",
    "df_list[1].to_csv(\"../../../data/DFG_NFDI_2021.csv\", index=False, encoding='utf-8')"
   ]
  }
 ],
 "metadata": {
  "kernelspec": {
   "display_name": "Python 3 (ipykernel)",
   "language": "python",
   "name": "python3"
  },
  "language_info": {
   "codemirror_mode": {
    "name": "ipython",
    "version": 3
   },
   "file_extension": ".py",
   "mimetype": "text/x-python",
   "name": "python",
   "nbconvert_exporter": "python",
   "pygments_lexer": "ipython3",
   "version": "3.9.7"
  }
 },
 "nbformat": 4,
 "nbformat_minor": 4
}
